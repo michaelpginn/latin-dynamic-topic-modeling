{
 "cells": [
  {
   "cell_type": "code",
   "execution_count": 1,
   "id": "f2721f43",
   "metadata": {
    "collapsed": false,
    "jupyter": {
     "outputs_hidden": false
    },
    "tags": []
   },
   "outputs": [
    {
     "name": "stdout",
     "output_type": "stream",
     "text": [
      "‎𐤀 CLTK version '1.1.6'.\n",
      "Pipeline for language 'Latin' (ISO: 'lat'): `LatinNormalizeProcess`, `LatinStanzaProcess`, `LatinEmbeddingsProcess`, `StopsProcess`, `LatinLexiconProcess`.\n",
      "Loading corpus...\n",
      "Loaded 2141 texts.\n",
      "Couldn't find epistaustras.txt\n",
      "Couldn't find asserius.txt\n",
      "Couldn't find appverg.catalepton.txt\n",
      "Couldn't find xanten.txt\n",
      "Couldn't find fragmentumlaurentianum.txt\n",
      "Couldn't find dares1.txt\n",
      "Couldn't find inscriptions.txt\n",
      "Couldn't find appvergculex.txt\n",
      "Couldn't find epitaphs.txt\n",
      "Couldn't find cato.dis.txt\n",
      "Couldn't find pulchracomis.txt\n",
      "Couldn't find hymni.txt\n",
      "Couldn't find baldo.txt\n",
      "Couldn't find columba2.txt\n",
      "Couldn't find diravi.txt\n",
      "Couldn't find lucernarium.txt\n",
      "Couldn't find appvergcomp.txt\n",
      "Couldn't find carmenarvale.txt\n",
      "Couldn't find columba1.txt\n",
      "Couldn't find valesianus1.txt\n",
      "Couldn't find index.txt\n",
      "Couldn't find nivis.txt\n",
      "Couldn't find carmensaliare.txt\n",
      "Couldn't find dares.txt\n",
      "Couldn't find appverg.aetna.txt\n",
      "Couldn't find valesianus2.txt\n",
      "Couldn't find appverg.ciris.txt\n",
      "Couldn't find liberpontificalis1.txt\n",
      "Couldn't find indices.txt\n",
      "Couldn't find walton.txt\n",
      "Couldn't find creeds.txt\n",
      "Couldn't find donation.txt\n",
      "Couldn't find precatio.txt\n",
      "Couldn't find caeciliusbalbus.txt\n",
      "Couldn't find protospatarius.txt\n",
      "Couldn't find ep.priapismo.txt\n",
      "Couldn't find tevigilans.txt\n",
      "Couldn't find ave.phoen.txt\n",
      "Couldn't find calpurniussiculus.txt\n",
      "Couldn't find dicquid.txt\n",
      "Couldn't find prec.terr.txt\n",
      "Couldn't find dumdomus.txt\n",
      "Couldn't find pervig.txt\n",
      "Couldn't find ampelius.txt\n",
      "Couldn't find ipsavivere.txt\n",
      "Couldn't find diesirae.txt\n",
      "Couldn't find comes.txt\n",
      "Couldn't find bible/prologi.txt\n",
      "Couldn't find bible/esdras2.txt\n",
      "Couldn't find bible/esdras1.txt\n",
      "Couldn't find bible/matthew.txt\n",
      "Couldn't find bible/john.txt\n",
      "Couldn't find bible/genesis.txt\n",
      "Couldn't find bible/mark.txt\n",
      "Couldn't find bible/daniel.txt\n",
      "Couldn't find bible/titum.txt\n",
      "Couldn't find bible/sirach.txt\n",
      "Couldn't find bible/john1.txt\n",
      "Couldn't find bible/john2.txt\n",
      "Couldn't find bible/manasses.txt\n",
      "Couldn't find bible/philip.txt\n",
      "Couldn't find bible/john3.txt\n",
      "Couldn't find justin/29.txt\n",
      "Couldn't find justin/15.txt\n",
      "Couldn't find justin/14.txt\n",
      "Couldn't find justin/28.txt\n",
      "Couldn't find justin/prologi.txt\n",
      "Couldn't find justin/16.txt\n",
      "Couldn't find justin/17.txt\n",
      "Couldn't find justin/13.txt\n",
      "Couldn't find justin/12.txt\n",
      "Couldn't find justin/10.txt\n",
      "Couldn't find justin/38.txt\n",
      "Couldn't find justin/39.txt\n",
      "Couldn't find justin/11.txt\n",
      "Couldn't find justin/9.txt\n",
      "Couldn't find justin/8.txt\n",
      "Couldn't find justin/5.txt\n",
      "Couldn't find justin/43.txt\n",
      "Couldn't find justin/42.txt\n",
      "Couldn't find justin/4.txt\n",
      "Couldn't find justin/praefatio.txt\n",
      "Couldn't find justin/40.txt\n",
      "Couldn't find justin/6.txt\n",
      "Couldn't find justin/7.txt\n",
      "Couldn't find justin/41.txt\n",
      "Couldn't find justin/3.txt\n",
      "Couldn't find justin/2.txt\n",
      "Couldn't find justin/44.txt\n",
      "Couldn't find justin/1.txt\n",
      "Couldn't find justin/34.txt\n",
      "Couldn't find justin/20.txt\n",
      "Couldn't find justin/21.txt\n",
      "Couldn't find justin/35.txt\n",
      "Couldn't find justin/23.txt\n",
      "Couldn't find justin/37.txt\n",
      "Couldn't find justin/36.txt\n",
      "Couldn't find justin/22.txt\n",
      "Couldn't find justin/26.txt\n",
      "Couldn't find justin/32.txt\n",
      "Couldn't find justin/33.txt\n",
      "Couldn't find justin/27.txt\n",
      "Couldn't find justin/31.txt\n",
      "Couldn't find justin/25.txt\n",
      "Couldn't find justin/19.txt\n",
      "Couldn't find justin/18.txt\n",
      "Couldn't find justin/24.txt\n",
      "Couldn't find justin/30.txt\n",
      "Couldn't find sha/claud.txt\n",
      "Couldn't find sha/firmus.txt\n",
      "Couldn't find sha/sepsev.txt\n",
      "Couldn't find sha/diad.txt\n",
      "Couldn't find sha/ant.txt\n",
      "Couldn't find sha/maxbal.txt\n",
      "Couldn't find sha/mac.txt\n",
      "Couldn't find sha/verus.txt\n",
      "Couldn't find sha/helio.txt\n",
      "Couldn't find sha/carus.txt\n",
      "Couldn't find sha/avid.txt\n",
      "Couldn't find sha/probus.txt\n",
      "Couldn't find sha/aurel.txt\n",
      "Couldn't find sha/tacitus.txt\n",
      "Couldn't find sha/clod.txt\n",
      "Couldn't find sha/didiul.txt\n",
      "Couldn't find sha/aelii.txt\n",
      "Couldn't find sha/geta.txt\n",
      "Couldn't find sha/hadr.txt\n",
      "Couldn't find sha/pert.txt\n",
      "Couldn't find sha/gall.txt\n",
      "Couldn't find sha/alexsev.txt\n",
      "Couldn't find sha/pesc.txt\n",
      "Couldn't find sha/marcant.txt\n",
      "Couldn't find sha/gord.txt\n",
      "Couldn't find sha/max.txt\n",
      "Couldn't find sha/val.txt\n",
      "Couldn't find sha/com.txt\n",
      "Couldn't find sha/car.txt\n",
      "Couldn't find sha/30.txt\n",
      "Couldn't find apicius/apicius3.txt\n",
      "Couldn't find apicius/apicius2.txt\n",
      "Couldn't find apicius/apicius1.txt\n",
      "Couldn't find apicius/apicius5.txt\n",
      "Couldn't find apicius/apicius4.txt\n"
     ]
    },
    {
     "data": {
      "application/vnd.jupyter.widget-view+json": {
       "model_id": "eb688cb0f88142e1865eb7a60e4cac72",
       "version_major": 2,
       "version_minor": 0
      },
      "text/plain": [
       "  0%|          | 0/1349 [00:00<?, ?it/s]"
      ]
     },
     "metadata": {},
     "output_type": "display_data"
    }
   ],
   "source": [
    "from bertopic import BERTopic\n",
    "from src.embedder import LatinEmbedder\n",
    "from sklearn.feature_extraction.text import CountVectorizer\n",
    "from cltk.stops.words import Stops\n",
    "from cltk.tokenizers.lat.lat import LatinWordTokenizer\n",
    "from cltk.lemmatize.lat import LatinBackoffLemmatizer\n",
    "from tqdm.notebook import tqdm\n",
    "from src.embedder import load_document_embeddings\n",
    "from src.corpus import load_corpus, download_corpus\n",
    "import pandas as pd\n",
    "\n",
    "\n",
    "documents = load_corpus()\n",
    "\n",
    "# We've already created document embeddings, so load those\n",
    "embeddings = load_document_embeddings(documents, 'src/doc_embeddings_all.npy')\n",
    "documents = [doc for doc in documents if not not embeddings[doc[1]].any()]\n",
    "\n",
    "# Get dates and filter those without\n",
    "dates = pd.read_csv('LatLibDates-Filtered.csv')\n",
    "documents_with_dates = []\n",
    "all_dates = []\n",
    "\n",
    "for doc in documents:\n",
    "    title = doc[0][39:] # Chop off the file name\n",
    "    if (dates['V1'] == title).any():\n",
    "        date = dates[dates['V1'] == title].values[0][1]\n",
    "        if date <= 13:\n",
    "            # Convert the integer to the actual year, using negative numbers for BC\n",
    "            date = -700 + date * 100\n",
    "            all_dates.append(date)\n",
    "            documents_with_dates.append(doc)\n",
    "    else:\n",
    "        print(f\"Couldn't find {title}\")\n",
    "\n",
    "# Tokenize and lemmatize\n",
    "tokenizer = LatinWordTokenizer()\n",
    "lemmatizer = LatinBackoffLemmatizer()\n",
    "\n",
    "tokenized_documents = []\n",
    "tokenized_embedding_map = dict()\n",
    "for document in tqdm(documents_with_dates):\n",
    "    tokenized = [lemma[1] for lemma in lemmatizer.lemmatize(tokenizer.tokenize(document[1]))]\n",
    "    tokenized = ' '.join(tokenized)\n",
    "    tokenized_documents.append(tokenized)\n",
    "    tokenized_embedding_map[tokenized] = embeddings[document[1]]"
   ]
  },
  {
   "cell_type": "code",
   "execution_count": 2,
   "id": "24373919",
   "metadata": {
    "collapsed": false,
    "jupyter": {
     "outputs_hidden": false
    },
    "tags": []
   },
   "outputs": [
    {
     "name": "stdout",
     "output_type": "stream",
     "text": [
      "Embedding: bellum\n"
     ]
    },
    {
     "data": {
      "text/html": [
       "<div>\n",
       "<style scoped>\n",
       "    .dataframe tbody tr th:only-of-type {\n",
       "        vertical-align: middle;\n",
       "    }\n",
       "\n",
       "    .dataframe tbody tr th {\n",
       "        vertical-align: top;\n",
       "    }\n",
       "\n",
       "    .dataframe thead th {\n",
       "        text-align: right;\n",
       "    }\n",
       "</style>\n",
       "<table border=\"1\" class=\"dataframe\">\n",
       "  <thead>\n",
       "    <tr style=\"text-align: right;\">\n",
       "      <th></th>\n",
       "      <th>Topic</th>\n",
       "      <th>Count</th>\n",
       "      <th>Name</th>\n",
       "    </tr>\n",
       "  </thead>\n",
       "  <tbody>\n",
       "    <tr>\n",
       "      <th>0</th>\n",
       "      <td>-1</td>\n",
       "      <td>104</td>\n",
       "      <td>-1_dico_omnis_facio_bellum</td>\n",
       "    </tr>\n",
       "    <tr>\n",
       "      <th>1</th>\n",
       "      <td>0</td>\n",
       "      <td>267</td>\n",
       "      <td>0_fero_do_os_manus</td>\n",
       "    </tr>\n",
       "    <tr>\n",
       "      <th>2</th>\n",
       "      <td>1</td>\n",
       "      <td>107</td>\n",
       "      <td>1_deus_homo_dico_christus</td>\n",
       "    </tr>\n",
       "    <tr>\n",
       "      <th>3</th>\n",
       "      <td>2</td>\n",
       "      <td>90</td>\n",
       "      <td>2_terra_pars_aqua_dico</td>\n",
       "    </tr>\n",
       "    <tr>\n",
       "      <th>4</th>\n",
       "      <td>3</td>\n",
       "      <td>65</td>\n",
       "      <td>3_res_publicus_omnis_homo</td>\n",
       "    </tr>\n",
       "    <tr>\n",
       "      <th>5</th>\n",
       "      <td>4</td>\n",
       "      <td>64</td>\n",
       "      <td>4_romanus_bellum_urbs_mille</td>\n",
       "    </tr>\n",
       "    <tr>\n",
       "      <th>6</th>\n",
       "      <td>5</td>\n",
       "      <td>42</td>\n",
       "      <td>5_bonus_animus_malus_nihil</td>\n",
       "    </tr>\n",
       "    <tr>\n",
       "      <th>7</th>\n",
       "      <td>6</td>\n",
       "      <td>41</td>\n",
       "      <td>6_periocha_livy_consul_urbe</td>\n",
       "    </tr>\n",
       "    <tr>\n",
       "      <th>8</th>\n",
       "      <td>7</td>\n",
       "      <td>40</td>\n",
       "      <td>7_rex_miles_bellum_romanus</td>\n",
       "    </tr>\n",
       "    <tr>\n",
       "      <th>9</th>\n",
       "      <td>8</td>\n",
       "      <td>38</td>\n",
       "      <td>8_deus_dico_dominus_facio</td>\n",
       "    </tr>\n",
       "    <tr>\n",
       "      <th>10</th>\n",
       "      <td>9</td>\n",
       "      <td>38</td>\n",
       "      <td>9_romanus_consul_hostis_bellum</td>\n",
       "    </tr>\n",
       "    <tr>\n",
       "      <th>11</th>\n",
       "      <td>10</td>\n",
       "      <td>36</td>\n",
       "      <td>10_dico_orator_verbum_genus</td>\n",
       "    </tr>\n",
       "    <tr>\n",
       "      <th>12</th>\n",
       "      <td>11</td>\n",
       "      <td>30</td>\n",
       "      <td>11_ulpianus_paulus_debeo_actio</td>\n",
       "    </tr>\n",
       "    <tr>\n",
       "      <th>13</th>\n",
       "      <td>12</td>\n",
       "      <td>28</td>\n",
       "      <td>12_heres_legatus_ulpianus_sab</td>\n",
       "    </tr>\n",
       "    <tr>\n",
       "      <th>14</th>\n",
       "      <td>13</td>\n",
       "      <td>27</td>\n",
       "      <td>13_facio_hercules_scio_volo1</td>\n",
       "    </tr>\n",
       "    <tr>\n",
       "      <th>15</th>\n",
       "      <td>14</td>\n",
       "      <td>27</td>\n",
       "      <td>14_pater_filius_inquam_dico</td>\n",
       "    </tr>\n",
       "    <tr>\n",
       "      <th>16</th>\n",
       "      <td>15</td>\n",
       "      <td>25</td>\n",
       "      <td>15_plinius_val_multus_suo</td>\n",
       "    </tr>\n",
       "    <tr>\n",
       "      <th>17</th>\n",
       "      <td>16</td>\n",
       "      <td>23</td>\n",
       "      <td>16_noster_vester_video_theodericus</td>\n",
       "    </tr>\n",
       "    <tr>\n",
       "      <th>18</th>\n",
       "      <td>17</td>\n",
       "      <td>21</td>\n",
       "      <td>17_scribo_littera_video_scr</td>\n",
       "    </tr>\n",
       "    <tr>\n",
       "      <th>19</th>\n",
       "      <td>18</td>\n",
       "      <td>21</td>\n",
       "      <td>18_quidam_quoque_senatus_imperium</td>\n",
       "    </tr>\n",
       "    <tr>\n",
       "      <th>20</th>\n",
       "      <td>19</td>\n",
       "      <td>20</td>\n",
       "      <td>19_inquam_psyche_manus_tunc</td>\n",
       "    </tr>\n",
       "    <tr>\n",
       "      <th>21</th>\n",
       "      <td>20</td>\n",
       "      <td>19</td>\n",
       "      <td>20_quidam_multus_omnis_miles</td>\n",
       "    </tr>\n",
       "    <tr>\n",
       "      <th>22</th>\n",
       "      <td>21</td>\n",
       "      <td>18</td>\n",
       "      <td>21_castrum_caesar_caesaris_legio</td>\n",
       "    </tr>\n",
       "    <tr>\n",
       "      <th>23</th>\n",
       "      <td>22</td>\n",
       "      <td>17</td>\n",
       "      <td>22_kalendae_conss_praeficio_do</td>\n",
       "    </tr>\n",
       "    <tr>\n",
       "      <th>24</th>\n",
       "      <td>23</td>\n",
       "      <td>17</td>\n",
       "      <td>23_periocha_procus_livy_urbe</td>\n",
       "    </tr>\n",
       "    <tr>\n",
       "      <th>25</th>\n",
       "      <td>24</td>\n",
       "      <td>17</td>\n",
       "      <td>24_dico_verbum_scribo_inquam</td>\n",
       "    </tr>\n",
       "    <tr>\n",
       "      <th>26</th>\n",
       "      <td>25</td>\n",
       "      <td>17</td>\n",
       "      <td>25_rex_ind_annus_episcopus</td>\n",
       "    </tr>\n",
       "    <tr>\n",
       "      <th>27</th>\n",
       "      <td>26</td>\n",
       "      <td>17</td>\n",
       "      <td>26_rex_episcopus_sancio_verus</td>\n",
       "    </tr>\n",
       "    <tr>\n",
       "      <th>28</th>\n",
       "      <td>27</td>\n",
       "      <td>15</td>\n",
       "      <td>27_dico_dies_annus_nomen</td>\n",
       "    </tr>\n",
       "    <tr>\n",
       "      <th>29</th>\n",
       "      <td>28</td>\n",
       "      <td>15</td>\n",
       "      <td>28_natura_voluptas_dico_omnis</td>\n",
       "    </tr>\n",
       "    <tr>\n",
       "      <th>30</th>\n",
       "      <td>29</td>\n",
       "      <td>15</td>\n",
       "      <td>29_res_scr_littera_publicus</td>\n",
       "    </tr>\n",
       "    <tr>\n",
       "      <th>31</th>\n",
       "      <td>30</td>\n",
       "      <td>14</td>\n",
       "      <td>30_imperator_conss_aulus_constantinopoli</td>\n",
       "    </tr>\n",
       "    <tr>\n",
       "      <th>32</th>\n",
       "      <td>31</td>\n",
       "      <td>14</td>\n",
       "      <td>31_atheniensis_lacedaemonius_rex_magnus</td>\n",
       "    </tr>\n",
       "  </tbody>\n",
       "</table>\n",
       "</div>"
      ],
      "text/plain": [
       "    Topic  Count                                      Name\n",
       "0      -1    104                -1_dico_omnis_facio_bellum\n",
       "1       0    267                        0_fero_do_os_manus\n",
       "2       1    107                 1_deus_homo_dico_christus\n",
       "3       2     90                    2_terra_pars_aqua_dico\n",
       "4       3     65                 3_res_publicus_omnis_homo\n",
       "5       4     64               4_romanus_bellum_urbs_mille\n",
       "6       5     42                5_bonus_animus_malus_nihil\n",
       "7       6     41               6_periocha_livy_consul_urbe\n",
       "8       7     40                7_rex_miles_bellum_romanus\n",
       "9       8     38                 8_deus_dico_dominus_facio\n",
       "10      9     38            9_romanus_consul_hostis_bellum\n",
       "11     10     36               10_dico_orator_verbum_genus\n",
       "12     11     30            11_ulpianus_paulus_debeo_actio\n",
       "13     12     28             12_heres_legatus_ulpianus_sab\n",
       "14     13     27              13_facio_hercules_scio_volo1\n",
       "15     14     27               14_pater_filius_inquam_dico\n",
       "16     15     25                 15_plinius_val_multus_suo\n",
       "17     16     23        16_noster_vester_video_theodericus\n",
       "18     17     21               17_scribo_littera_video_scr\n",
       "19     18     21         18_quidam_quoque_senatus_imperium\n",
       "20     19     20               19_inquam_psyche_manus_tunc\n",
       "21     20     19              20_quidam_multus_omnis_miles\n",
       "22     21     18          21_castrum_caesar_caesaris_legio\n",
       "23     22     17            22_kalendae_conss_praeficio_do\n",
       "24     23     17              23_periocha_procus_livy_urbe\n",
       "25     24     17              24_dico_verbum_scribo_inquam\n",
       "26     25     17                25_rex_ind_annus_episcopus\n",
       "27     26     17             26_rex_episcopus_sancio_verus\n",
       "28     27     15                  27_dico_dies_annus_nomen\n",
       "29     28     15             28_natura_voluptas_dico_omnis\n",
       "30     29     15               29_res_scr_littera_publicus\n",
       "31     30     14  30_imperator_conss_aulus_constantinopoli\n",
       "32     31     14   31_atheniensis_lacedaemonius_rex_magnus"
      ]
     },
     "execution_count": 2,
     "metadata": {},
     "output_type": "execute_result"
    }
   ],
   "source": [
    "import random\n",
    "\n",
    "random.seed(0)\n",
    "\n",
    "vectorizer = CountVectorizer(\n",
    "    stop_words=Stops(iso_code='lat').stops + ['punc', 'quod', 'se', 'sunt', 'esse', 'tibi', 'mihi', 'te', 'quid', 'me', 'hoc', 'cum2', 'meus', 'tuus', 'the', 'ejus', 'dig', 'iste', 'nunc', 'ed', 'ch', 'vel', 'cj', 'aa', 'pp', 'cth']\n",
    ")\n",
    "\n",
    "topic_model = BERTopic(\n",
    "    embedding_model=LatinEmbedder(document_embeddings=tokenized_embedding_map),\n",
    "    vectorizer_model=vectorizer,\n",
    "    verbose=True,\n",
    "    calculate_probabilities=True\n",
    ")\n",
    "\n",
    "# Fit a static topic model first\n",
    "topics, probs = topic_model.fit_transform(tokenized_documents)\n",
    "topic_model.get_topic_info()"
   ]
  },
  {
   "cell_type": "code",
   "execution_count": 3,
   "id": "d0fd29db-8a7d-4d93-885b-1190a132e66b",
   "metadata": {
    "collapsed": false,
    "jupyter": {
     "outputs_hidden": false
    },
    "tags": []
   },
   "outputs": [
    {
     "data": {
      "text/plain": [
       "['Cicero punc Philippic II M. TVLLI CICERONIS IN M. ANTONIVM ORATIO PHILIPPICA SECVNDA punc 1 punc pun',\n",
       " 'Cicero punc Pro Sestius M. TVLLI CICERONIS PRO P. SESTIO ORATIO I II III IV V VI VII VIII IX X XI XI',\n",
       " 'DE DOMO SVA M. TVLLI CICERONIS DE DOMO SVA AD PONTIFICES ORATIO 1 2 3 4 5 6 7 8 9 10 11 12 13 14 15 ']"
      ]
     },
     "execution_count": 3,
     "metadata": {},
     "output_type": "execute_result"
    }
   ],
   "source": [
    "# View representative documents for some topic\n",
    "[d[:100] for d in topic_model.get_representative_docs(topic=3)]"
   ]
  },
  {
   "cell_type": "code",
   "execution_count": 4,
   "id": "a0167ce8-24c6-46a0-bf14-cd1280ad0995",
   "metadata": {
    "tags": []
   },
   "outputs": [
    {
     "data": {
      "text/plain": [
       "[('romanus', 0.029064458745320248),\n",
       " ('bellum', 0.028496906891343685),\n",
       " ('urbs', 0.020351907720820638),\n",
       " ('mille', 0.019188584705734247),\n",
       " ('consul', 0.018801392719209938),\n",
       " ('rex', 0.017324882910955637),\n",
       " ('annus', 0.016865607342353123),\n",
       " ('exercitus', 0.015743894267029882),\n",
       " ('imperium', 0.013953955814545236),\n",
       " ('roma', 0.013715553954753414)]"
      ]
     },
     "execution_count": 4,
     "metadata": {},
     "output_type": "execute_result"
    }
   ],
   "source": [
    "# See the top words for a topic\n",
    "topic_model.get_topic(4)"
   ]
  },
  {
   "cell_type": "code",
   "execution_count": 5,
   "id": "8537a3b6",
   "metadata": {
    "collapsed": false,
    "jupyter": {
     "outputs_hidden": false
    },
    "tags": []
   },
   "outputs": [
    {
     "data": {
      "text/html": [
       "<div>\n",
       "<style scoped>\n",
       "    .dataframe tbody tr th:only-of-type {\n",
       "        vertical-align: middle;\n",
       "    }\n",
       "\n",
       "    .dataframe tbody tr th {\n",
       "        vertical-align: top;\n",
       "    }\n",
       "\n",
       "    .dataframe thead th {\n",
       "        text-align: right;\n",
       "    }\n",
       "</style>\n",
       "<table border=\"1\" class=\"dataframe\">\n",
       "  <thead>\n",
       "    <tr style=\"text-align: right;\">\n",
       "      <th></th>\n",
       "      <th>Document</th>\n",
       "      <th>Topic</th>\n",
       "      <th>Name</th>\n",
       "      <th>Top_n_words</th>\n",
       "      <th>Probability</th>\n",
       "      <th>Representative_document</th>\n",
       "    </tr>\n",
       "  </thead>\n",
       "  <tbody>\n",
       "    <tr>\n",
       "      <th>0</th>\n",
       "      <td>Notitia Dignitas NOTITIA DIGNITATUM IN PARTIBU...</td>\n",
       "      <td>-1</td>\n",
       "      <td>-1_dico_omnis_facio_bellum</td>\n",
       "      <td>dico - omnis - facio - bellum - romanus - host...</td>\n",
       "      <td>0.504863</td>\n",
       "      <td>False</td>\n",
       "    </tr>\n",
       "    <tr>\n",
       "      <th>1</th>\n",
       "      <td>Sallus sum punc Bellum Jugurthinus C. SALLVSTI...</td>\n",
       "      <td>7</td>\n",
       "      <td>7_rex_miles_bellum_romanus</td>\n",
       "      <td>rex - miles - bellum - romanus - magnus - anim...</td>\n",
       "      <td>0.656985</td>\n",
       "      <td>False</td>\n",
       "    </tr>\n",
       "    <tr>\n",
       "      <th>2</th>\n",
       "      <td>DUODECIM TABULARUM LEGES DUODECIM TABULARUM LE...</td>\n",
       "      <td>0</td>\n",
       "      <td>0_fero_do_os_manus</td>\n",
       "      <td>fero - do - os - manus - pectus - arma - unda ...</td>\n",
       "      <td>0.749806</td>\n",
       "      <td>False</td>\n",
       "    </tr>\n",
       "    <tr>\n",
       "      <th>3</th>\n",
       "      <td>Sidonius punc Epistularis Liber III SIDONII AP...</td>\n",
       "      <td>15</td>\n",
       "      <td>15_plinius_val_multus_suo</td>\n",
       "      <td>plinius - val - multus - suo - princeps - epis...</td>\n",
       "      <td>0.192160</td>\n",
       "      <td>False</td>\n",
       "    </tr>\n",
       "    <tr>\n",
       "      <th>4</th>\n",
       "      <td>Priapea CARMINA PRIAPEA punc I punc Carminis i...</td>\n",
       "      <td>0</td>\n",
       "      <td>0_fero_do_os_manus</td>\n",
       "      <td>fero - do - os - manus - pectus - arma - unda ...</td>\n",
       "      <td>0.936937</td>\n",
       "      <td>False</td>\n",
       "    </tr>\n",
       "    <tr>\n",
       "      <th>...</th>\n",
       "      <td>...</td>\n",
       "      <td>...</td>\n",
       "      <td>...</td>\n",
       "      <td>...</td>\n",
       "      <td>...</td>\n",
       "      <td>...</td>\n",
       "    </tr>\n",
       "    <tr>\n",
       "      <th>1344</th>\n",
       "      <td>Ammianus punc Liber XXV AMMIANI MARCELLINI HIS...</td>\n",
       "      <td>20</td>\n",
       "      <td>20_quidam_multus_omnis_miles</td>\n",
       "      <td>quidam - multus - omnis - miles - princeps - r...</td>\n",
       "      <td>1.000000</td>\n",
       "      <td>True</td>\n",
       "    </tr>\n",
       "    <tr>\n",
       "      <th>1345</th>\n",
       "      <td>Ammianus punc Liber XIX AMMIANI MARCELLINI HIS...</td>\n",
       "      <td>20</td>\n",
       "      <td>20_quidam_multus_omnis_miles</td>\n",
       "      <td>quidam - multus - omnis - miles - princeps - r...</td>\n",
       "      <td>1.000000</td>\n",
       "      <td>False</td>\n",
       "    </tr>\n",
       "    <tr>\n",
       "      <th>1346</th>\n",
       "      <td>Ammianus punc Liber XVIII AMMIANI MARCELLINI H...</td>\n",
       "      <td>20</td>\n",
       "      <td>20_quidam_multus_omnis_miles</td>\n",
       "      <td>quidam - multus - omnis - miles - princeps - r...</td>\n",
       "      <td>1.000000</td>\n",
       "      <td>False</td>\n",
       "    </tr>\n",
       "    <tr>\n",
       "      <th>1347</th>\n",
       "      <td>Ammianus punc Liber XVIV AMMIANI MARCELLINI HI...</td>\n",
       "      <td>20</td>\n",
       "      <td>20_quidam_multus_omnis_miles</td>\n",
       "      <td>quidam - multus - omnis - miles - princeps - r...</td>\n",
       "      <td>0.389600</td>\n",
       "      <td>False</td>\n",
       "    </tr>\n",
       "    <tr>\n",
       "      <th>1348</th>\n",
       "      <td>Ammianus punc Liber XXX AMMIANI MARCELLINI HIS...</td>\n",
       "      <td>20</td>\n",
       "      <td>20_quidam_multus_omnis_miles</td>\n",
       "      <td>quidam - multus - omnis - miles - princeps - r...</td>\n",
       "      <td>0.289418</td>\n",
       "      <td>False</td>\n",
       "    </tr>\n",
       "  </tbody>\n",
       "</table>\n",
       "<p>1349 rows × 6 columns</p>\n",
       "</div>"
      ],
      "text/plain": [
       "                                               Document  Topic   \n",
       "0     Notitia Dignitas NOTITIA DIGNITATUM IN PARTIBU...     -1  \\\n",
       "1     Sallus sum punc Bellum Jugurthinus C. SALLVSTI...      7   \n",
       "2     DUODECIM TABULARUM LEGES DUODECIM TABULARUM LE...      0   \n",
       "3     Sidonius punc Epistularis Liber III SIDONII AP...     15   \n",
       "4     Priapea CARMINA PRIAPEA punc I punc Carminis i...      0   \n",
       "...                                                 ...    ...   \n",
       "1344  Ammianus punc Liber XXV AMMIANI MARCELLINI HIS...     20   \n",
       "1345  Ammianus punc Liber XIX AMMIANI MARCELLINI HIS...     20   \n",
       "1346  Ammianus punc Liber XVIII AMMIANI MARCELLINI H...     20   \n",
       "1347  Ammianus punc Liber XVIV AMMIANI MARCELLINI HI...     20   \n",
       "1348  Ammianus punc Liber XXX AMMIANI MARCELLINI HIS...     20   \n",
       "\n",
       "                              Name   \n",
       "0       -1_dico_omnis_facio_bellum  \\\n",
       "1       7_rex_miles_bellum_romanus   \n",
       "2               0_fero_do_os_manus   \n",
       "3        15_plinius_val_multus_suo   \n",
       "4               0_fero_do_os_manus   \n",
       "...                            ...   \n",
       "1344  20_quidam_multus_omnis_miles   \n",
       "1345  20_quidam_multus_omnis_miles   \n",
       "1346  20_quidam_multus_omnis_miles   \n",
       "1347  20_quidam_multus_omnis_miles   \n",
       "1348  20_quidam_multus_omnis_miles   \n",
       "\n",
       "                                            Top_n_words  Probability   \n",
       "0     dico - omnis - facio - bellum - romanus - host...     0.504863  \\\n",
       "1     rex - miles - bellum - romanus - magnus - anim...     0.656985   \n",
       "2     fero - do - os - manus - pectus - arma - unda ...     0.749806   \n",
       "3     plinius - val - multus - suo - princeps - epis...     0.192160   \n",
       "4     fero - do - os - manus - pectus - arma - unda ...     0.936937   \n",
       "...                                                 ...          ...   \n",
       "1344  quidam - multus - omnis - miles - princeps - r...     1.000000   \n",
       "1345  quidam - multus - omnis - miles - princeps - r...     1.000000   \n",
       "1346  quidam - multus - omnis - miles - princeps - r...     1.000000   \n",
       "1347  quidam - multus - omnis - miles - princeps - r...     0.389600   \n",
       "1348  quidam - multus - omnis - miles - princeps - r...     0.289418   \n",
       "\n",
       "      Representative_document  \n",
       "0                       False  \n",
       "1                       False  \n",
       "2                       False  \n",
       "3                       False  \n",
       "4                       False  \n",
       "...                       ...  \n",
       "1344                     True  \n",
       "1345                    False  \n",
       "1346                    False  \n",
       "1347                    False  \n",
       "1348                    False  \n",
       "\n",
       "[1349 rows x 6 columns]"
      ]
     },
     "execution_count": 5,
     "metadata": {},
     "output_type": "execute_result"
    }
   ],
   "source": [
    "# See an overview of all documents\n",
    "topic_model.get_document_info(tokenized_documents)"
   ]
  },
  {
   "cell_type": "code",
   "execution_count": 6,
   "id": "66ca4808",
   "metadata": {
    "collapsed": false,
    "jupyter": {
     "outputs_hidden": false
    },
    "tags": []
   },
   "outputs": [
    {
     "name": "stdout",
     "output_type": "stream",
     "text": [
      "(33, 180923)\n",
      "(1349, 32)\n"
     ]
    },
    {
     "name": "stderr",
     "output_type": "stream",
     "text": [
      "/Users/milesper/miniforge3/lib/python3.10/site-packages/pandas/core/internals/blocks.py:329: RuntimeWarning: divide by zero encountered in log\n",
      "  result = func(self.values, **kwargs)\n",
      "/Users/milesper/miniforge3/lib/python3.10/site-packages/pandas/core/internals/blocks.py:329: RuntimeWarning: divide by zero encountered in log\n",
      "  result = func(self.values, **kwargs)\n",
      "/Users/milesper/miniforge3/lib/python3.10/site-packages/pandas/core/internals/blocks.py:329: RuntimeWarning: divide by zero encountered in log\n",
      "  result = func(self.values, **kwargs)\n"
     ]
    }
   ],
   "source": [
    "# Visualize topics (without time)\n",
    "import pyLDAvis\n",
    "import numpy as np\n",
    "\n",
    "print(topic_model.c_tf_idf_.toarray().shape)\n",
    "print(probs.shape)\n",
    "\n",
    "scaled_probs = probs[:,:8]\n",
    "scaled_probs = scaled_probs / scaled_probs.sum(axis=1)[:, np.newaxis]\n",
    "\n",
    "doc_lengths = [len(doc.split()) for doc in tokenized_documents]\n",
    "vocab = vectorizer.get_feature_names_out()\n",
    "term_freqs = np.sum(vectorizer.transform(tokenized_documents).toarray(), axis=0)\n",
    "\n",
    "vis_data = pyLDAvis.prepare(\n",
    "    topic_term_dists=topic_model.c_tf_idf_.toarray()[1:9,:],\n",
    "    doc_topic_dists=scaled_probs,\n",
    "    doc_lengths=doc_lengths,\n",
    "    vocab=vocab,\n",
    "    term_frequency=term_freqs\n",
    ")\n",
    "pyLDAvis.display(vis_data)\n",
    "pyLDAvis.save_json(vis_data, './results/BERTopic/bertintertopic.json')"
   ]
  },
  {
   "cell_type": "code",
   "execution_count": 8,
   "id": "742564dc-3bc7-4c84-8c14-c63b3a6cdc1f",
   "metadata": {
    "tags": []
   },
   "outputs": [
    {
     "name": "stderr",
     "output_type": "stream",
     "text": [
      "The PostScript backend does not support transparency; partially transparent artists will be rendered opaque.\n"
     ]
    },
    {
     "data": {
      "image/png": "[encoded data removed]",
      "text/plain": [
       "<Figure size 600x600 with 1 Axes>"
      ]
     },
     "metadata": {},
     "output_type": "display_data"
    }
   ],
   "source": [
    "from src.convert_ldavis_to_pyplot import convert_ldavis_to_pyplot\n",
    "\n",
    "convert_ldavis_to_pyplot('./results/BERTopic/bertintertopic.json', './results/BERTopic/bert_intertopic.eps')"
   ]
  },
  {
   "cell_type": "code",
   "execution_count": 7,
   "id": "38a1b631",
   "metadata": {
    "collapsed": false,
    "jupyter": {
     "outputs_hidden": false
    },
    "tags": []
   },
   "outputs": [
    {
     "name": "stderr",
     "output_type": "stream",
     "text": [
      "10it [00:09,  1.07it/s]\n"
     ]
    }
   ],
   "source": [
    "# Fit the dynamic topic model, breaking dates into 20 bins\n",
    "topics_over_time = topic_model.topics_over_time(tokenized_documents, all_dates, nr_bins=10)"
   ]
  },
  {
   "cell_type": "code",
   "execution_count": 8,
   "id": "0cb47650",
   "metadata": {
    "collapsed": false,
    "jupyter": {
     "outputs_hidden": false
    },
    "tags": []
   },
   "outputs": [
    {
     "data": {
      "text/html": [
       "        <script type=\"text/javascript\">\n",
       "        window.PlotlyConfig = {MathJaxConfig: 'local'};\n",
       "        if (window.MathJax && window.MathJax.Hub && window.MathJax.Hub.Config) {window.MathJax.Hub.Config({SVG: {font: \"STIX-Web\"}});}\n",
       "        if (typeof require !== 'undefined') {\n",
       "        require.undef(\"plotly\");\n",
       "        requirejs.config({\n",
       "            paths: {\n",
       "                'plotly': ['https://cdn.plot.ly/plotly-2.18.2.min']\n",
       "            }\n",
       "        });\n",
       "        require(['plotly'], function(Plotly) {\n",
       "            window._Plotly = Plotly;\n",
       "        });\n",
       "        }\n",
       "        </script>\n",
       "        "
      ]
     },
     "metadata": {},
     "output_type": "display_data"
    },
    {
     "data": {
      "application/vnd.plotly.v1+json": {
       "config": {
        "plotlyServerURL": "https://plot.ly"
       },
       "data": [
        {
         "hoverinfo": "text",
         "hovertext": [
          "<b>Topic 0</b><br>Words: tabula, ni, duplio, ius, endo",
          "<b>Topic 0</b><br>Words: coss, pluo, fulmen, caelum, fulmine",
          "<b>Topic 0</b><br>Words: pyrrhus, do, bellum, liber, ferrum",
          "<b>Topic 0</b><br>Words: fero, do, os, arma, magnus",
          "<b>Topic 0</b><br>Words: fero, do, os, manus, pectus",
          "<b>Topic 0</b><br>Words: do, fero, os, pectus, manus",
          "<b>Topic 0</b><br>Words: lumen, amor, terra, caelum, flamma",
          "<b>Topic 0</b><br>Words: carmen, musa1, metrum, felix, uotum",
          "<b>Topic 0</b><br>Words: fero, os, christus, do, manus",
          "<b>Topic 0</b><br>Words: que, particula, os, fero, cesar"
         ],
         "marker": {
          "color": "#E69F00"
         },
         "mode": "lines",
         "name": "0_fero_do_os_manus",
         "type": "scatter",
         "x": [
          -450.049,
          -344.1,
          -239.2,
          -134.3,
          -29.4,
          75.5,
          180.4,
          285.3,
          390.2,
          495.1
         ],
         "y": [
          1,
          1,
          1,
          44,
          115,
          51,
          6,
          7,
          35,
          6
         ]
        },
        {
         "hoverinfo": "text",
         "hovertext": [
          "<b>Topic 1</b><br>Words: deus, omnis, homo, dico, daemon",
          "<b>Topic 1</b><br>Words: deus, christus, homo, dico, omnis",
          "<b>Topic 1</b><br>Words: deus, homo, dico, filius, omnis",
          "<b>Topic 1</b><br>Words: deus, dico, homo, corpus, spiritus",
          "<b>Topic 1</b><br>Words: deus, homo, dico, omnis, dei"
         ],
         "marker": {
          "color": "#56B4E9"
         },
         "mode": "lines",
         "name": "1_deus_homo_dico_christus",
         "type": "scatter",
         "x": [
          75.5,
          180.4,
          285.3,
          390.2,
          495.1
         ],
         "y": [
          1,
          39,
          7,
          49,
          11
         ]
        },
        {
         "hoverinfo": "text",
         "hovertext": [
          "<b>Topic 2</b><br>Words: uti, facio, vinum, ubius, bene",
          "<b>Topic 2</b><br>Words: pars, terra, habeo, corpus, ratio",
          "<b>Topic 2</b><br>Words: terra, pars, aqua, sol, magnus",
          "<b>Topic 2</b><br>Words: quinarius, aqua, digitus, mille, urbs",
          "<b>Topic 2</b><br>Words: mare, terra, habeo, pars, primus",
          "<b>Topic 2</b><br>Words: terra, latus, mare, aequor, multus",
          "<b>Topic 2</b><br>Words: mare, septentrio, orior, meridies, occasus",
          "<b>Topic 2</b><br>Words: voco, graecum, dico, dictum, terra"
         ],
         "marker": {
          "color": "#009E73"
         },
         "mode": "lines",
         "name": "2_terra_pars_aqua_dico",
         "type": "scatter",
         "x": [
          -239.2,
          -134.3,
          -29.4,
          75.5,
          180.4,
          285.3,
          390.2,
          495.1
         ],
         "y": [
          1,
          21,
          34,
          7,
          9,
          4,
          1,
          13
         ]
        },
        {
         "hoverinfo": "text",
         "hovertext": [
          "<b>Topic 3</b><br>Words: res, publicus, omnis, homo, video",
          "<b>Topic 3</b><br>Words: basilica, populus, dico, ecclesia, venio"
         ],
         "marker": {
          "color": "#F0E442"
         },
         "mode": "lines",
         "name": "3_res_publicus_omnis_homo",
         "type": "scatter",
         "x": [
          -134.3,
          285.3
         ],
         "y": [
          64,
          1
         ]
        },
        {
         "hoverinfo": "text",
         "hovertext": [
          "<b>Topic 4</b><br>Words: periocha, livy, urbe, livi, condita",
          "<b>Topic 4</b><br>Words: romanus, bellum, consul, vinco, urbs",
          "<b>Topic 4</b><br>Words: bellum, romanus, mille, urbs, consul",
          "<b>Topic 4</b><br>Words: romanus, ann, regno, rex, bellum"
         ],
         "marker": {
          "color": "#D55E00"
         },
         "mode": "lines",
         "name": "4_romanus_bellum_urbs_mille",
         "type": "scatter",
         "x": [
          -29.4,
          285.3,
          390.2,
          495.1
         ],
         "y": [
          45,
          10,
          7,
          2
         ]
        },
        {
         "hoverinfo": "text",
         "hovertext": [
          "<b>Topic 5</b><br>Words: dolor, malus, animus, bonus, nihil",
          "<b>Topic 5</b><br>Words: bonus, animus, malus, omnis, nihil",
          "<b>Topic 5</b><br>Words: uita, bonus, malus, axioche, socrates",
          "<b>Topic 5</b><br>Words: ira, animus, alius, omnis, malus"
         ],
         "marker": {
          "color": "#0072B2"
         },
         "mode": "lines",
         "name": "5_bonus_animus_malus_nihil",
         "type": "scatter",
         "x": [
          -134.3,
          -29.4,
          390.2,
          495.1
         ],
         "y": [
          3,
          34,
          2,
          3
         ]
        },
        {
         "hoverinfo": "text",
         "hovertext": [
          "<b>Topic 6</b><br>Words: periocha, livy, consul, urbe, livi"
         ],
         "marker": {
          "color": "#CC79A7"
         },
         "mode": "lines",
         "name": "6_periocha_livy_consul_urbe",
         "type": "scatter",
         "x": [
          -29.4
         ],
         "y": [
          41
         ]
        },
        {
         "hoverinfo": "text",
         "hovertext": [
          "<b>Topic 7</b><br>Words: jugurtha, bellum, rex, omnis, magnus",
          "<b>Topic 7</b><br>Words: rex, ext, animus, urbs, magnus",
          "<b>Topic 7</b><br>Words: miles, legio, nero, bellum, princeps",
          "<b>Topic 7</b><br>Words: miles, omnis, deus, imperium, facio",
          "<b>Topic 7</b><br>Words: romanus, bellum, multus, res, tantus"
         ],
         "marker": {
          "color": "#E69F00"
         },
         "mode": "lines",
         "name": "7_rex_miles_bellum_romanus",
         "type": "scatter",
         "x": [
          -134.3,
          -29.4,
          75.5,
          285.3,
          390.2
         ],
         "y": [
          4,
          18,
          15,
          1,
          2
         ]
        }
       ],
       "layout": {
        "height": 450,
        "hoverlabel": {
         "bgcolor": "white",
         "font": {
          "family": "Rockwell",
          "size": 16
         }
        },
        "legend": {
         "title": {
          "text": "<b>Global Topic Representation"
         }
        },
        "template": {
         "data": {
          "bar": [
           {
            "error_x": {
             "color": "rgb(36,36,36)"
            },
            "error_y": {
             "color": "rgb(36,36,36)"
            },
            "marker": {
             "line": {
              "color": "white",
              "width": 0.5
             },
             "pattern": {
              "fillmode": "overlay",
              "size": 10,
              "solidity": 0.2
             }
            },
            "type": "bar"
           }
          ],
          "barpolar": [
           {
            "marker": {
             "line": {
              "color": "white",
              "width": 0.5
             },
             "pattern": {
              "fillmode": "overlay",
              "size": 10,
              "solidity": 0.2
             }
            },
            "type": "barpolar"
           }
          ],
          "carpet": [
           {
            "aaxis": {
             "endlinecolor": "rgb(36,36,36)",
             "gridcolor": "white",
             "linecolor": "white",
             "minorgridcolor": "white",
             "startlinecolor": "rgb(36,36,36)"
            },
            "baxis": {
             "endlinecolor": "rgb(36,36,36)",
             "gridcolor": "white",
             "linecolor": "white",
             "minorgridcolor": "white",
             "startlinecolor": "rgb(36,36,36)"
            },
            "type": "carpet"
           }
          ],
          "choropleth": [
           {
            "colorbar": {
             "outlinewidth": 1,
             "tickcolor": "rgb(36,36,36)",
             "ticks": "outside"
            },
            "type": "choropleth"
           }
          ],
          "contour": [
           {
            "colorbar": {
             "outlinewidth": 1,
             "tickcolor": "rgb(36,36,36)",
             "ticks": "outside"
            },
            "colorscale": [
             [
              0,
              "#440154"
             ],
             [
              0.1111111111111111,
              "#482878"
             ],
             [
              0.2222222222222222,
              "#3e4989"
             ],
             [
              0.3333333333333333,
              "#31688e"
             ],
             [
              0.4444444444444444,
              "#26828e"
             ],
             [
              0.5555555555555556,
              "#1f9e89"
             ],
             [
              0.6666666666666666,
              "#35b779"
             ],
             [
              0.7777777777777778,
              "#6ece58"
             ],
             [
              0.8888888888888888,
              "#b5de2b"
             ],
             [
              1,
              "#fde725"
             ]
            ],
            "type": "contour"
           }
          ],
          "contourcarpet": [
           {
            "colorbar": {
             "outlinewidth": 1,
             "tickcolor": "rgb(36,36,36)",
             "ticks": "outside"
            },
            "type": "contourcarpet"
           }
          ],
          "heatmap": [
           {
            "colorbar": {
             "outlinewidth": 1,
             "tickcolor": "rgb(36,36,36)",
             "ticks": "outside"
            },
            "colorscale": [
             [
              0,
              "#440154"
             ],
             [
              0.1111111111111111,
              "#482878"
             ],
             [
              0.2222222222222222,
              "#3e4989"
             ],
             [
              0.3333333333333333,
              "#31688e"
             ],
             [
              0.4444444444444444,
              "#26828e"
             ],
             [
              0.5555555555555556,
              "#1f9e89"
             ],
             [
              0.6666666666666666,
              "#35b779"
             ],
             [
              0.7777777777777778,
              "#6ece58"
             ],
             [
              0.8888888888888888,
              "#b5de2b"
             ],
             [
              1,
              "#fde725"
             ]
            ],
            "type": "heatmap"
           }
          ],
          "heatmapgl": [
           {
            "colorbar": {
             "outlinewidth": 1,
             "tickcolor": "rgb(36,36,36)",
             "ticks": "outside"
            },
            "colorscale": [
             [
              0,
              "#440154"
             ],
             [
              0.1111111111111111,
              "#482878"
             ],
             [
              0.2222222222222222,
              "#3e4989"
             ],
             [
              0.3333333333333333,
              "#31688e"
             ],
             [
              0.4444444444444444,
              "#26828e"
             ],
             [
              0.5555555555555556,
              "#1f9e89"
             ],
             [
              0.6666666666666666,
              "#35b779"
             ],
             [
              0.7777777777777778,
              "#6ece58"
             ],
             [
              0.8888888888888888,
              "#b5de2b"
             ],
             [
              1,
              "#fde725"
             ]
            ],
            "type": "heatmapgl"
           }
          ],
          "histogram": [
           {
            "marker": {
             "line": {
              "color": "white",
              "width": 0.6
             }
            },
            "type": "histogram"
           }
          ],
          "histogram2d": [
           {
            "colorbar": {
             "outlinewidth": 1,
             "tickcolor": "rgb(36,36,36)",
             "ticks": "outside"
            },
            "colorscale": [
             [
              0,
              "#440154"
             ],
             [
              0.1111111111111111,
              "#482878"
             ],
             [
              0.2222222222222222,
              "#3e4989"
             ],
             [
              0.3333333333333333,
              "#31688e"
             ],
             [
              0.4444444444444444,
              "#26828e"
             ],
             [
              0.5555555555555556,
              "#1f9e89"
             ],
             [
              0.6666666666666666,
              "#35b779"
             ],
             [
              0.7777777777777778,
              "#6ece58"
             ],
             [
              0.8888888888888888,
              "#b5de2b"
             ],
             [
              1,
              "#fde725"
             ]
            ],
            "type": "histogram2d"
           }
          ],
          "histogram2dcontour": [
           {
            "colorbar": {
             "outlinewidth": 1,
             "tickcolor": "rgb(36,36,36)",
             "ticks": "outside"
            },
            "colorscale": [
             [
              0,
              "#440154"
             ],
             [
              0.1111111111111111,
              "#482878"
             ],
             [
              0.2222222222222222,
              "#3e4989"
             ],
             [
              0.3333333333333333,
              "#31688e"
             ],
             [
              0.4444444444444444,
              "#26828e"
             ],
             [
              0.5555555555555556,
              "#1f9e89"
             ],
             [
              0.6666666666666666,
              "#35b779"
             ],
             [
              0.7777777777777778,
              "#6ece58"
             ],
             [
              0.8888888888888888,
              "#b5de2b"
             ],
             [
              1,
              "#fde725"
             ]
            ],
            "type": "histogram2dcontour"
           }
          ],
          "mesh3d": [
           {
            "colorbar": {
             "outlinewidth": 1,
             "tickcolor": "rgb(36,36,36)",
             "ticks": "outside"
            },
            "type": "mesh3d"
           }
          ],
          "parcoords": [
           {
            "line": {
             "colorbar": {
              "outlinewidth": 1,
              "tickcolor": "rgb(36,36,36)",
              "ticks": "outside"
             }
            },
            "type": "parcoords"
           }
          ],
          "pie": [
           {
            "automargin": true,
            "type": "pie"
           }
          ],
          "scatter": [
           {
            "fillpattern": {
             "fillmode": "overlay",
             "size": 10,
             "solidity": 0.2
            },
            "type": "scatter"
           }
          ],
          "scatter3d": [
           {
            "line": {
             "colorbar": {
              "outlinewidth": 1,
              "tickcolor": "rgb(36,36,36)",
              "ticks": "outside"
             }
            },
            "marker": {
             "colorbar": {
              "outlinewidth": 1,
              "tickcolor": "rgb(36,36,36)",
              "ticks": "outside"
             }
            },
            "type": "scatter3d"
           }
          ],
          "scattercarpet": [
           {
            "marker": {
             "colorbar": {
              "outlinewidth": 1,
              "tickcolor": "rgb(36,36,36)",
              "ticks": "outside"
             }
            },
            "type": "scattercarpet"
           }
          ],
          "scattergeo": [
           {
            "marker": {
             "colorbar": {
              "outlinewidth": 1,
              "tickcolor": "rgb(36,36,36)",
              "ticks": "outside"
             }
            },
            "type": "scattergeo"
           }
          ],
          "scattergl": [
           {
            "marker": {
             "colorbar": {
              "outlinewidth": 1,
              "tickcolor": "rgb(36,36,36)",
              "ticks": "outside"
             }
            },
            "type": "scattergl"
           }
          ],
          "scattermapbox": [
           {
            "marker": {
             "colorbar": {
              "outlinewidth": 1,
              "tickcolor": "rgb(36,36,36)",
              "ticks": "outside"
             }
            },
            "type": "scattermapbox"
           }
          ],
          "scatterpolar": [
           {
            "marker": {
             "colorbar": {
              "outlinewidth": 1,
              "tickcolor": "rgb(36,36,36)",
              "ticks": "outside"
             }
            },
            "type": "scatterpolar"
           }
          ],
          "scatterpolargl": [
           {
            "marker": {
             "colorbar": {
              "outlinewidth": 1,
              "tickcolor": "rgb(36,36,36)",
              "ticks": "outside"
             }
            },
            "type": "scatterpolargl"
           }
          ],
          "scatterternary": [
           {
            "marker": {
             "colorbar": {
              "outlinewidth": 1,
              "tickcolor": "rgb(36,36,36)",
              "ticks": "outside"
             }
            },
            "type": "scatterternary"
           }
          ],
          "surface": [
           {
            "colorbar": {
             "outlinewidth": 1,
             "tickcolor": "rgb(36,36,36)",
             "ticks": "outside"
            },
            "colorscale": [
             [
              0,
              "#440154"
             ],
             [
              0.1111111111111111,
              "#482878"
             ],
             [
              0.2222222222222222,
              "#3e4989"
             ],
             [
              0.3333333333333333,
              "#31688e"
             ],
             [
              0.4444444444444444,
              "#26828e"
             ],
             [
              0.5555555555555556,
              "#1f9e89"
             ],
             [
              0.6666666666666666,
              "#35b779"
             ],
             [
              0.7777777777777778,
              "#6ece58"
             ],
             [
              0.8888888888888888,
              "#b5de2b"
             ],
             [
              1,
              "#fde725"
             ]
            ],
            "type": "surface"
           }
          ],
          "table": [
           {
            "cells": {
             "fill": {
              "color": "rgb(237,237,237)"
             },
             "line": {
              "color": "white"
             }
            },
            "header": {
             "fill": {
              "color": "rgb(217,217,217)"
             },
             "line": {
              "color": "white"
             }
            },
            "type": "table"
           }
          ]
         },
         "layout": {
          "annotationdefaults": {
           "arrowhead": 0,
           "arrowwidth": 1
          },
          "autotypenumbers": "strict",
          "coloraxis": {
           "colorbar": {
            "outlinewidth": 1,
            "tickcolor": "rgb(36,36,36)",
            "ticks": "outside"
           }
          },
          "colorscale": {
           "diverging": [
            [
             0,
             "rgb(103,0,31)"
            ],
            [
             0.1,
             "rgb(178,24,43)"
            ],
            [
             0.2,
             "rgb(214,96,77)"
            ],
            [
             0.3,
             "rgb(244,165,130)"
            ],
            [
             0.4,
             "rgb(253,219,199)"
            ],
            [
             0.5,
             "rgb(247,247,247)"
            ],
            [
             0.6,
             "rgb(209,229,240)"
            ],
            [
             0.7,
             "rgb(146,197,222)"
            ],
            [
             0.8,
             "rgb(67,147,195)"
            ],
            [
             0.9,
             "rgb(33,102,172)"
            ],
            [
             1,
             "rgb(5,48,97)"
            ]
           ],
           "sequential": [
            [
             0,
             "#440154"
            ],
            [
             0.1111111111111111,
             "#482878"
            ],
            [
             0.2222222222222222,
             "#3e4989"
            ],
            [
             0.3333333333333333,
             "#31688e"
            ],
            [
             0.4444444444444444,
             "#26828e"
            ],
            [
             0.5555555555555556,
             "#1f9e89"
            ],
            [
             0.6666666666666666,
             "#35b779"
            ],
            [
             0.7777777777777778,
             "#6ece58"
            ],
            [
             0.8888888888888888,
             "#b5de2b"
            ],
            [
             1,
             "#fde725"
            ]
           ],
           "sequentialminus": [
            [
             0,
             "#440154"
            ],
            [
             0.1111111111111111,
             "#482878"
            ],
            [
             0.2222222222222222,
             "#3e4989"
            ],
            [
             0.3333333333333333,
             "#31688e"
            ],
            [
             0.4444444444444444,
             "#26828e"
            ],
            [
             0.5555555555555556,
             "#1f9e89"
            ],
            [
             0.6666666666666666,
             "#35b779"
            ],
            [
             0.7777777777777778,
             "#6ece58"
            ],
            [
             0.8888888888888888,
             "#b5de2b"
            ],
            [
             1,
             "#fde725"
            ]
           ]
          },
          "colorway": [
           "#1F77B4",
           "#FF7F0E",
           "#2CA02C",
           "#D62728",
           "#9467BD",
           "#8C564B",
           "#E377C2",
           "#7F7F7F",
           "#BCBD22",
           "#17BECF"
          ],
          "font": {
           "color": "rgb(36,36,36)"
          },
          "geo": {
           "bgcolor": "white",
           "lakecolor": "white",
           "landcolor": "white",
           "showlakes": true,
           "showland": true,
           "subunitcolor": "white"
          },
          "hoverlabel": {
           "align": "left"
          },
          "hovermode": "closest",
          "mapbox": {
           "style": "light"
          },
          "paper_bgcolor": "white",
          "plot_bgcolor": "white",
          "polar": {
           "angularaxis": {
            "gridcolor": "rgb(232,232,232)",
            "linecolor": "rgb(36,36,36)",
            "showgrid": false,
            "showline": true,
            "ticks": "outside"
           },
           "bgcolor": "white",
           "radialaxis": {
            "gridcolor": "rgb(232,232,232)",
            "linecolor": "rgb(36,36,36)",
            "showgrid": false,
            "showline": true,
            "ticks": "outside"
           }
          },
          "scene": {
           "xaxis": {
            "backgroundcolor": "white",
            "gridcolor": "rgb(232,232,232)",
            "gridwidth": 2,
            "linecolor": "rgb(36,36,36)",
            "showbackground": true,
            "showgrid": false,
            "showline": true,
            "ticks": "outside",
            "zeroline": false,
            "zerolinecolor": "rgb(36,36,36)"
           },
           "yaxis": {
            "backgroundcolor": "white",
            "gridcolor": "rgb(232,232,232)",
            "gridwidth": 2,
            "linecolor": "rgb(36,36,36)",
            "showbackground": true,
            "showgrid": false,
            "showline": true,
            "ticks": "outside",
            "zeroline": false,
            "zerolinecolor": "rgb(36,36,36)"
           },
           "zaxis": {
            "backgroundcolor": "white",
            "gridcolor": "rgb(232,232,232)",
            "gridwidth": 2,
            "linecolor": "rgb(36,36,36)",
            "showbackground": true,
            "showgrid": false,
            "showline": true,
            "ticks": "outside",
            "zeroline": false,
            "zerolinecolor": "rgb(36,36,36)"
           }
          },
          "shapedefaults": {
           "fillcolor": "black",
           "line": {
            "width": 0
           },
           "opacity": 0.3
          },
          "ternary": {
           "aaxis": {
            "gridcolor": "rgb(232,232,232)",
            "linecolor": "rgb(36,36,36)",
            "showgrid": false,
            "showline": true,
            "ticks": "outside"
           },
           "baxis": {
            "gridcolor": "rgb(232,232,232)",
            "linecolor": "rgb(36,36,36)",
            "showgrid": false,
            "showline": true,
            "ticks": "outside"
           },
           "bgcolor": "white",
           "caxis": {
            "gridcolor": "rgb(232,232,232)",
            "linecolor": "rgb(36,36,36)",
            "showgrid": false,
            "showline": true,
            "ticks": "outside"
           }
          },
          "title": {
           "x": 0.05
          },
          "xaxis": {
           "automargin": true,
           "gridcolor": "rgb(232,232,232)",
           "linecolor": "rgb(36,36,36)",
           "showgrid": false,
           "showline": true,
           "ticks": "outside",
           "title": {
            "standoff": 15
           },
           "zeroline": false,
           "zerolinecolor": "rgb(36,36,36)"
          },
          "yaxis": {
           "automargin": true,
           "gridcolor": "rgb(232,232,232)",
           "linecolor": "rgb(36,36,36)",
           "showgrid": false,
           "showline": true,
           "ticks": "outside",
           "title": {
            "standoff": 15
           },
           "zeroline": false,
           "zerolinecolor": "rgb(36,36,36)"
          }
         }
        },
        "title": {
         "font": {
          "color": "Black",
          "size": 22
         },
         "text": "<b>Topics over Time</b>",
         "x": 0.4,
         "xanchor": "center",
         "y": 0.95,
         "yanchor": "top"
        },
        "width": 1250,
        "xaxis": {
         "autorange": true,
         "range": [
          -450.049,
          495.1
         ],
         "showgrid": true,
         "type": "linear"
        },
        "yaxis": {
         "autorange": true,
         "range": [
          -5.333333333333333,
          121.33333333333333
         ],
         "showgrid": true,
         "title": {
          "text": "Frequency"
         },
         "type": "linear"
        }
       }
      },
      "text/html": [
       "<div>                            <div id=\"bdeb4737-95a9-42b6-8602-acfad64485a2\" class=\"plotly-graph-div\" style=\"height:450px; width:1250px;\"></div>            <script type=\"text/javascript\">                require([\"plotly\"], function(Plotly) {                    window.PLOTLYENV=window.PLOTLYENV || {};                                    if (document.getElementById(\"bdeb4737-95a9-42b6-8602-acfad64485a2\")) {                    Plotly.newPlot(                        \"bdeb4737-95a9-42b6-8602-acfad64485a2\",                        [{\"hoverinfo\":\"text\",\"hovertext\":[\"<b>Topic 0</b><br>Words: tabula, ni, duplio, ius, endo\",\"<b>Topic 0</b><br>Words: coss, pluo, fulmen, caelum, fulmine\",\"<b>Topic 0</b><br>Words: pyrrhus, do, bellum, liber, ferrum\",\"<b>Topic 0</b><br>Words: fero, do, os, arma, magnus\",\"<b>Topic 0</b><br>Words: fero, do, os, manus, pectus\",\"<b>Topic 0</b><br>Words: do, fero, os, pectus, manus\",\"<b>Topic 0</b><br>Words: lumen, amor, terra, caelum, flamma\",\"<b>Topic 0</b><br>Words: carmen, musa1, metrum, felix, uotum\",\"<b>Topic 0</b><br>Words: fero, os, christus, do, manus\",\"<b>Topic 0</b><br>Words: que, particula, os, fero, cesar\"],\"marker\":{\"color\":\"#E69F00\"},\"mode\":\"lines\",\"name\":\"0_fero_do_os_manus\",\"x\":[-450.049,-344.1,-239.2,-134.3,-29.4,75.5,180.4,285.3,390.2,495.1],\"y\":[1,1,1,44,115,51,6,7,35,6],\"type\":\"scatter\"},{\"hoverinfo\":\"text\",\"hovertext\":[\"<b>Topic 1</b><br>Words: deus, omnis, homo, dico, daemon\",\"<b>Topic 1</b><br>Words: deus, christus, homo, dico, omnis\",\"<b>Topic 1</b><br>Words: deus, homo, dico, filius, omnis\",\"<b>Topic 1</b><br>Words: deus, dico, homo, corpus, spiritus\",\"<b>Topic 1</b><br>Words: deus, homo, dico, omnis, dei\"],\"marker\":{\"color\":\"#56B4E9\"},\"mode\":\"lines\",\"name\":\"1_deus_homo_dico_christus\",\"x\":[75.5,180.4,285.3,390.2,495.1],\"y\":[1,39,7,49,11],\"type\":\"scatter\"},{\"hoverinfo\":\"text\",\"hovertext\":[\"<b>Topic 2</b><br>Words: uti, facio, vinum, ubius, bene\",\"<b>Topic 2</b><br>Words: pars, terra, habeo, corpus, ratio\",\"<b>Topic 2</b><br>Words: terra, pars, aqua, sol, magnus\",\"<b>Topic 2</b><br>Words: quinarius, aqua, digitus, mille, urbs\",\"<b>Topic 2</b><br>Words: mare, terra, habeo, pars, primus\",\"<b>Topic 2</b><br>Words: terra, latus, mare, aequor, multus\",\"<b>Topic 2</b><br>Words: mare, septentrio, orior, meridies, occasus\",\"<b>Topic 2</b><br>Words: voco, graecum, dico, dictum, terra\"],\"marker\":{\"color\":\"#009E73\"},\"mode\":\"lines\",\"name\":\"2_terra_pars_aqua_dico\",\"x\":[-239.2,-134.3,-29.4,75.5,180.4,285.3,390.2,495.1],\"y\":[1,21,34,7,9,4,1,13],\"type\":\"scatter\"},{\"hoverinfo\":\"text\",\"hovertext\":[\"<b>Topic 3</b><br>Words: res, publicus, omnis, homo, video\",\"<b>Topic 3</b><br>Words: basilica, populus, dico, ecclesia, venio\"],\"marker\":{\"color\":\"#F0E442\"},\"mode\":\"lines\",\"name\":\"3_res_publicus_omnis_homo\",\"x\":[-134.3,285.3],\"y\":[64,1],\"type\":\"scatter\"},{\"hoverinfo\":\"text\",\"hovertext\":[\"<b>Topic 4</b><br>Words: periocha, livy, urbe, livi, condita\",\"<b>Topic 4</b><br>Words: romanus, bellum, consul, vinco, urbs\",\"<b>Topic 4</b><br>Words: bellum, romanus, mille, urbs, consul\",\"<b>Topic 4</b><br>Words: romanus, ann, regno, rex, bellum\"],\"marker\":{\"color\":\"#D55E00\"},\"mode\":\"lines\",\"name\":\"4_romanus_bellum_urbs_mille\",\"x\":[-29.4,285.3,390.2,495.1],\"y\":[45,10,7,2],\"type\":\"scatter\"},{\"hoverinfo\":\"text\",\"hovertext\":[\"<b>Topic 5</b><br>Words: dolor, malus, animus, bonus, nihil\",\"<b>Topic 5</b><br>Words: bonus, animus, malus, omnis, nihil\",\"<b>Topic 5</b><br>Words: uita, bonus, malus, axioche, socrates\",\"<b>Topic 5</b><br>Words: ira, animus, alius, omnis, malus\"],\"marker\":{\"color\":\"#0072B2\"},\"mode\":\"lines\",\"name\":\"5_bonus_animus_malus_nihil\",\"x\":[-134.3,-29.4,390.2,495.1],\"y\":[3,34,2,3],\"type\":\"scatter\"},{\"hoverinfo\":\"text\",\"hovertext\":[\"<b>Topic 6</b><br>Words: periocha, livy, consul, urbe, livi\"],\"marker\":{\"color\":\"#CC79A7\"},\"mode\":\"lines\",\"name\":\"6_periocha_livy_consul_urbe\",\"x\":[-29.4],\"y\":[41],\"type\":\"scatter\"},{\"hoverinfo\":\"text\",\"hovertext\":[\"<b>Topic 7</b><br>Words: jugurtha, bellum, rex, omnis, magnus\",\"<b>Topic 7</b><br>Words: rex, ext, animus, urbs, magnus\",\"<b>Topic 7</b><br>Words: miles, legio, nero, bellum, princeps\",\"<b>Topic 7</b><br>Words: miles, omnis, deus, imperium, facio\",\"<b>Topic 7</b><br>Words: romanus, bellum, multus, res, tantus\"],\"marker\":{\"color\":\"#E69F00\"},\"mode\":\"lines\",\"name\":\"7_rex_miles_bellum_romanus\",\"x\":[-134.3,-29.4,75.5,285.3,390.2],\"y\":[4,18,15,1,2],\"type\":\"scatter\"}],                        {\"template\":{\"data\":{\"barpolar\":[{\"marker\":{\"line\":{\"color\":\"white\",\"width\":0.5},\"pattern\":{\"fillmode\":\"overlay\",\"size\":10,\"solidity\":0.2}},\"type\":\"barpolar\"}],\"bar\":[{\"error_x\":{\"color\":\"rgb(36,36,36)\"},\"error_y\":{\"color\":\"rgb(36,36,36)\"},\"marker\":{\"line\":{\"color\":\"white\",\"width\":0.5},\"pattern\":{\"fillmode\":\"overlay\",\"size\":10,\"solidity\":0.2}},\"type\":\"bar\"}],\"carpet\":[{\"aaxis\":{\"endlinecolor\":\"rgb(36,36,36)\",\"gridcolor\":\"white\",\"linecolor\":\"white\",\"minorgridcolor\":\"white\",\"startlinecolor\":\"rgb(36,36,36)\"},\"baxis\":{\"endlinecolor\":\"rgb(36,36,36)\",\"gridcolor\":\"white\",\"linecolor\":\"white\",\"minorgridcolor\":\"white\",\"startlinecolor\":\"rgb(36,36,36)\"},\"type\":\"carpet\"}],\"choropleth\":[{\"colorbar\":{\"outlinewidth\":1,\"tickcolor\":\"rgb(36,36,36)\",\"ticks\":\"outside\"},\"type\":\"choropleth\"}],\"contourcarpet\":[{\"colorbar\":{\"outlinewidth\":1,\"tickcolor\":\"rgb(36,36,36)\",\"ticks\":\"outside\"},\"type\":\"contourcarpet\"}],\"contour\":[{\"colorbar\":{\"outlinewidth\":1,\"tickcolor\":\"rgb(36,36,36)\",\"ticks\":\"outside\"},\"colorscale\":[[0.0,\"#440154\"],[0.1111111111111111,\"#482878\"],[0.2222222222222222,\"#3e4989\"],[0.3333333333333333,\"#31688e\"],[0.4444444444444444,\"#26828e\"],[0.5555555555555556,\"#1f9e89\"],[0.6666666666666666,\"#35b779\"],[0.7777777777777778,\"#6ece58\"],[0.8888888888888888,\"#b5de2b\"],[1.0,\"#fde725\"]],\"type\":\"contour\"}],\"heatmapgl\":[{\"colorbar\":{\"outlinewidth\":1,\"tickcolor\":\"rgb(36,36,36)\",\"ticks\":\"outside\"},\"colorscale\":[[0.0,\"#440154\"],[0.1111111111111111,\"#482878\"],[0.2222222222222222,\"#3e4989\"],[0.3333333333333333,\"#31688e\"],[0.4444444444444444,\"#26828e\"],[0.5555555555555556,\"#1f9e89\"],[0.6666666666666666,\"#35b779\"],[0.7777777777777778,\"#6ece58\"],[0.8888888888888888,\"#b5de2b\"],[1.0,\"#fde725\"]],\"type\":\"heatmapgl\"}],\"heatmap\":[{\"colorbar\":{\"outlinewidth\":1,\"tickcolor\":\"rgb(36,36,36)\",\"ticks\":\"outside\"},\"colorscale\":[[0.0,\"#440154\"],[0.1111111111111111,\"#482878\"],[0.2222222222222222,\"#3e4989\"],[0.3333333333333333,\"#31688e\"],[0.4444444444444444,\"#26828e\"],[0.5555555555555556,\"#1f9e89\"],[0.6666666666666666,\"#35b779\"],[0.7777777777777778,\"#6ece58\"],[0.8888888888888888,\"#b5de2b\"],[1.0,\"#fde725\"]],\"type\":\"heatmap\"}],\"histogram2dcontour\":[{\"colorbar\":{\"outlinewidth\":1,\"tickcolor\":\"rgb(36,36,36)\",\"ticks\":\"outside\"},\"colorscale\":[[0.0,\"#440154\"],[0.1111111111111111,\"#482878\"],[0.2222222222222222,\"#3e4989\"],[0.3333333333333333,\"#31688e\"],[0.4444444444444444,\"#26828e\"],[0.5555555555555556,\"#1f9e89\"],[0.6666666666666666,\"#35b779\"],[0.7777777777777778,\"#6ece58\"],[0.8888888888888888,\"#b5de2b\"],[1.0,\"#fde725\"]],\"type\":\"histogram2dcontour\"}],\"histogram2d\":[{\"colorbar\":{\"outlinewidth\":1,\"tickcolor\":\"rgb(36,36,36)\",\"ticks\":\"outside\"},\"colorscale\":[[0.0,\"#440154\"],[0.1111111111111111,\"#482878\"],[0.2222222222222222,\"#3e4989\"],[0.3333333333333333,\"#31688e\"],[0.4444444444444444,\"#26828e\"],[0.5555555555555556,\"#1f9e89\"],[0.6666666666666666,\"#35b779\"],[0.7777777777777778,\"#6ece58\"],[0.8888888888888888,\"#b5de2b\"],[1.0,\"#fde725\"]],\"type\":\"histogram2d\"}],\"histogram\":[{\"marker\":{\"line\":{\"color\":\"white\",\"width\":0.6}},\"type\":\"histogram\"}],\"mesh3d\":[{\"colorbar\":{\"outlinewidth\":1,\"tickcolor\":\"rgb(36,36,36)\",\"ticks\":\"outside\"},\"type\":\"mesh3d\"}],\"parcoords\":[{\"line\":{\"colorbar\":{\"outlinewidth\":1,\"tickcolor\":\"rgb(36,36,36)\",\"ticks\":\"outside\"}},\"type\":\"parcoords\"}],\"pie\":[{\"automargin\":true,\"type\":\"pie\"}],\"scatter3d\":[{\"line\":{\"colorbar\":{\"outlinewidth\":1,\"tickcolor\":\"rgb(36,36,36)\",\"ticks\":\"outside\"}},\"marker\":{\"colorbar\":{\"outlinewidth\":1,\"tickcolor\":\"rgb(36,36,36)\",\"ticks\":\"outside\"}},\"type\":\"scatter3d\"}],\"scattercarpet\":[{\"marker\":{\"colorbar\":{\"outlinewidth\":1,\"tickcolor\":\"rgb(36,36,36)\",\"ticks\":\"outside\"}},\"type\":\"scattercarpet\"}],\"scattergeo\":[{\"marker\":{\"colorbar\":{\"outlinewidth\":1,\"tickcolor\":\"rgb(36,36,36)\",\"ticks\":\"outside\"}},\"type\":\"scattergeo\"}],\"scattergl\":[{\"marker\":{\"colorbar\":{\"outlinewidth\":1,\"tickcolor\":\"rgb(36,36,36)\",\"ticks\":\"outside\"}},\"type\":\"scattergl\"}],\"scattermapbox\":[{\"marker\":{\"colorbar\":{\"outlinewidth\":1,\"tickcolor\":\"rgb(36,36,36)\",\"ticks\":\"outside\"}},\"type\":\"scattermapbox\"}],\"scatterpolargl\":[{\"marker\":{\"colorbar\":{\"outlinewidth\":1,\"tickcolor\":\"rgb(36,36,36)\",\"ticks\":\"outside\"}},\"type\":\"scatterpolargl\"}],\"scatterpolar\":[{\"marker\":{\"colorbar\":{\"outlinewidth\":1,\"tickcolor\":\"rgb(36,36,36)\",\"ticks\":\"outside\"}},\"type\":\"scatterpolar\"}],\"scatter\":[{\"fillpattern\":{\"fillmode\":\"overlay\",\"size\":10,\"solidity\":0.2},\"type\":\"scatter\"}],\"scatterternary\":[{\"marker\":{\"colorbar\":{\"outlinewidth\":1,\"tickcolor\":\"rgb(36,36,36)\",\"ticks\":\"outside\"}},\"type\":\"scatterternary\"}],\"surface\":[{\"colorbar\":{\"outlinewidth\":1,\"tickcolor\":\"rgb(36,36,36)\",\"ticks\":\"outside\"},\"colorscale\":[[0.0,\"#440154\"],[0.1111111111111111,\"#482878\"],[0.2222222222222222,\"#3e4989\"],[0.3333333333333333,\"#31688e\"],[0.4444444444444444,\"#26828e\"],[0.5555555555555556,\"#1f9e89\"],[0.6666666666666666,\"#35b779\"],[0.7777777777777778,\"#6ece58\"],[0.8888888888888888,\"#b5de2b\"],[1.0,\"#fde725\"]],\"type\":\"surface\"}],\"table\":[{\"cells\":{\"fill\":{\"color\":\"rgb(237,237,237)\"},\"line\":{\"color\":\"white\"}},\"header\":{\"fill\":{\"color\":\"rgb(217,217,217)\"},\"line\":{\"color\":\"white\"}},\"type\":\"table\"}]},\"layout\":{\"annotationdefaults\":{\"arrowhead\":0,\"arrowwidth\":1},\"autotypenumbers\":\"strict\",\"coloraxis\":{\"colorbar\":{\"outlinewidth\":1,\"tickcolor\":\"rgb(36,36,36)\",\"ticks\":\"outside\"}},\"colorscale\":{\"diverging\":[[0.0,\"rgb(103,0,31)\"],[0.1,\"rgb(178,24,43)\"],[0.2,\"rgb(214,96,77)\"],[0.3,\"rgb(244,165,130)\"],[0.4,\"rgb(253,219,199)\"],[0.5,\"rgb(247,247,247)\"],[0.6,\"rgb(209,229,240)\"],[0.7,\"rgb(146,197,222)\"],[0.8,\"rgb(67,147,195)\"],[0.9,\"rgb(33,102,172)\"],[1.0,\"rgb(5,48,97)\"]],\"sequential\":[[0.0,\"#440154\"],[0.1111111111111111,\"#482878\"],[0.2222222222222222,\"#3e4989\"],[0.3333333333333333,\"#31688e\"],[0.4444444444444444,\"#26828e\"],[0.5555555555555556,\"#1f9e89\"],[0.6666666666666666,\"#35b779\"],[0.7777777777777778,\"#6ece58\"],[0.8888888888888888,\"#b5de2b\"],[1.0,\"#fde725\"]],\"sequentialminus\":[[0.0,\"#440154\"],[0.1111111111111111,\"#482878\"],[0.2222222222222222,\"#3e4989\"],[0.3333333333333333,\"#31688e\"],[0.4444444444444444,\"#26828e\"],[0.5555555555555556,\"#1f9e89\"],[0.6666666666666666,\"#35b779\"],[0.7777777777777778,\"#6ece58\"],[0.8888888888888888,\"#b5de2b\"],[1.0,\"#fde725\"]]},\"colorway\":[\"#1F77B4\",\"#FF7F0E\",\"#2CA02C\",\"#D62728\",\"#9467BD\",\"#8C564B\",\"#E377C2\",\"#7F7F7F\",\"#BCBD22\",\"#17BECF\"],\"font\":{\"color\":\"rgb(36,36,36)\"},\"geo\":{\"bgcolor\":\"white\",\"lakecolor\":\"white\",\"landcolor\":\"white\",\"showlakes\":true,\"showland\":true,\"subunitcolor\":\"white\"},\"hoverlabel\":{\"align\":\"left\"},\"hovermode\":\"closest\",\"mapbox\":{\"style\":\"light\"},\"paper_bgcolor\":\"white\",\"plot_bgcolor\":\"white\",\"polar\":{\"angularaxis\":{\"gridcolor\":\"rgb(232,232,232)\",\"linecolor\":\"rgb(36,36,36)\",\"showgrid\":false,\"showline\":true,\"ticks\":\"outside\"},\"bgcolor\":\"white\",\"radialaxis\":{\"gridcolor\":\"rgb(232,232,232)\",\"linecolor\":\"rgb(36,36,36)\",\"showgrid\":false,\"showline\":true,\"ticks\":\"outside\"}},\"scene\":{\"xaxis\":{\"backgroundcolor\":\"white\",\"gridcolor\":\"rgb(232,232,232)\",\"gridwidth\":2,\"linecolor\":\"rgb(36,36,36)\",\"showbackground\":true,\"showgrid\":false,\"showline\":true,\"ticks\":\"outside\",\"zeroline\":false,\"zerolinecolor\":\"rgb(36,36,36)\"},\"yaxis\":{\"backgroundcolor\":\"white\",\"gridcolor\":\"rgb(232,232,232)\",\"gridwidth\":2,\"linecolor\":\"rgb(36,36,36)\",\"showbackground\":true,\"showgrid\":false,\"showline\":true,\"ticks\":\"outside\",\"zeroline\":false,\"zerolinecolor\":\"rgb(36,36,36)\"},\"zaxis\":{\"backgroundcolor\":\"white\",\"gridcolor\":\"rgb(232,232,232)\",\"gridwidth\":2,\"linecolor\":\"rgb(36,36,36)\",\"showbackground\":true,\"showgrid\":false,\"showline\":true,\"ticks\":\"outside\",\"zeroline\":false,\"zerolinecolor\":\"rgb(36,36,36)\"}},\"shapedefaults\":{\"fillcolor\":\"black\",\"line\":{\"width\":0},\"opacity\":0.3},\"ternary\":{\"aaxis\":{\"gridcolor\":\"rgb(232,232,232)\",\"linecolor\":\"rgb(36,36,36)\",\"showgrid\":false,\"showline\":true,\"ticks\":\"outside\"},\"baxis\":{\"gridcolor\":\"rgb(232,232,232)\",\"linecolor\":\"rgb(36,36,36)\",\"showgrid\":false,\"showline\":true,\"ticks\":\"outside\"},\"bgcolor\":\"white\",\"caxis\":{\"gridcolor\":\"rgb(232,232,232)\",\"linecolor\":\"rgb(36,36,36)\",\"showgrid\":false,\"showline\":true,\"ticks\":\"outside\"}},\"title\":{\"x\":0.05},\"xaxis\":{\"automargin\":true,\"gridcolor\":\"rgb(232,232,232)\",\"linecolor\":\"rgb(36,36,36)\",\"showgrid\":false,\"showline\":true,\"ticks\":\"outside\",\"title\":{\"standoff\":15},\"zeroline\":false,\"zerolinecolor\":\"rgb(36,36,36)\"},\"yaxis\":{\"automargin\":true,\"gridcolor\":\"rgb(232,232,232)\",\"linecolor\":\"rgb(36,36,36)\",\"showgrid\":false,\"showline\":true,\"ticks\":\"outside\",\"title\":{\"standoff\":15},\"zeroline\":false,\"zerolinecolor\":\"rgb(36,36,36)\"}}},\"xaxis\":{\"showgrid\":true},\"yaxis\":{\"showgrid\":true,\"title\":{\"text\":\"Frequency\"}},\"title\":{\"font\":{\"size\":22,\"color\":\"Black\"},\"text\":\"<b>Topics over Time</b>\",\"y\":0.95,\"x\":0.4,\"xanchor\":\"center\",\"yanchor\":\"top\"},\"hoverlabel\":{\"font\":{\"size\":16,\"family\":\"Rockwell\"},\"bgcolor\":\"white\"},\"width\":1250,\"height\":450,\"legend\":{\"title\":{\"text\":\"<b>Global Topic Representation\"}}},                        {\"responsive\": true}                    ).then(function(){\n",
       "                            \n",
       "var gd = document.getElementById('bdeb4737-95a9-42b6-8602-acfad64485a2');\n",
       "var x = new MutationObserver(function (mutations, observer) {{\n",
       "        var display = window.getComputedStyle(gd).display;\n",
       "        if (!display || display === 'none') {{\n",
       "            console.log([gd, 'removed!']);\n",
       "            Plotly.purge(gd);\n",
       "            observer.disconnect();\n",
       "        }}\n",
       "}});\n",
       "\n",
       "// Listen for the removal of the full notebook cells\n",
       "var notebookContainer = gd.closest('#notebook-container');\n",
       "if (notebookContainer) {{\n",
       "    x.observe(notebookContainer, {childList: true});\n",
       "}}\n",
       "\n",
       "// Listen for the clearing of the current output cell\n",
       "var outputEl = gd.closest('.output');\n",
       "if (outputEl) {{\n",
       "    x.observe(outputEl, {childList: true});\n",
       "}}\n",
       "\n",
       "                        })                };                });            </script>        </div>"
      ]
     },
     "metadata": {},
     "output_type": "display_data"
    }
   ],
   "source": [
    "from plotly.offline import init_notebook_mode, iplot\n",
    "init_notebook_mode(connected=True)  \n",
    "\n",
    "p = topic_model.visualize_topics_over_time(topics_over_time, top_n_topics=8)\n",
    "p"
   ]
  },
  {
   "cell_type": "code",
   "execution_count": 10,
   "id": "fac98629-1edd-45c2-9465-3e3a893a40dc",
   "metadata": {
    "tags": []
   },
   "outputs": [
    {
     "name": "stderr",
     "output_type": "stream",
     "text": [
      "The PostScript backend does not support transparency; partially transparent artists will be rendered opaque.\n"
     ]
    },
    {
     "data": {
      "image/png": "[encoded data removed]",
      "text/plain": [
       "<Figure size 1500x400 with 1 Axes>"
      ]
     },
     "metadata": {},
     "output_type": "display_data"
    }
   ],
   "source": [
    "import matplotlib.pyplot as plt\n",
    "\n",
    "\n",
    "plt.rcParams[\"figure.figsize\"] = (15,4)\n",
    "\n",
    "# Plot each topic's frequency over time\n",
    "for topic in range(8):\n",
    "    timesteps = topics_over_time[topics_over_time['Topic'] == topic]\n",
    "    label = f\"{(int(timesteps['Name'].iloc[0][:1]) + 1)}\" + \": \" + \"_\".join(timesteps['Name'].iloc[0][2:].split(\"_\")[:3])\n",
    "    plt.plot(timesteps['Timestamp'], timesteps['Frequency'], label=label)\n",
    "\n",
    "plt.axis([-400, 600, 0, 120])\n",
    "    \n",
    "ticks = plt.xticks()[0]\n",
    "labels = []\n",
    "for tick in ticks:\n",
    "    if tick < 0:\n",
    "        labels.append(f\"{int(abs(tick))} BC\")\n",
    "    elif tick == 0:\n",
    "        labels.append(\"AD 1\")\n",
    "    else:\n",
    "        labels.append(f\"{int(tick)} AD\")\n",
    "plt.xticks(ticks, labels)\n",
    "\n",
    "\n",
    "plt.legend()\n",
    "plt.xlabel('year')\n",
    "plt.ylabel('frequency')\n",
    "plt.title('BERTopic DTM')\n",
    "\n",
    "plt.savefig(\"bertopic_topics_over_time.eps\", format = 'eps', bbox_inches='tight')\n",
    "\n",
    "plt.show()"
   ]
  },
  {
   "cell_type": "code",
   "execution_count": 12,
   "id": "2070a6dc-e872-4bf6-997d-4b8a74f66729",
   "metadata": {
    "tags": []
   },
   "outputs": [
    {
     "data": {
      "text/plain": [
       "['romanus',\n",
       " 'bellum',\n",
       " 'hostis',\n",
       " 'consul',\n",
       " 'exercitus',\n",
       " 'omnis',\n",
       " 'urbs',\n",
       " 'miles',\n",
       " 'rex',\n",
       " 'castrum']"
      ]
     },
     "execution_count": 12,
     "metadata": {},
     "output_type": "execute_result"
    }
   ],
   "source": [
    "[topic[0] for topic in topic_model.get_topic(0)]"
   ]
  },
  {
   "cell_type": "code",
   "execution_count": 44,
   "id": "96d2cb07-e130-4ecd-a795-e758e361fca8",
   "metadata": {
    "tags": []
   },
   "outputs": [
    {
     "data": {
      "text/plain": [
       "0.18880509389771355"
      ]
     },
     "execution_count": 44,
     "metadata": {},
     "output_type": "execute_result"
    }
   ],
   "source": [
    "from src.embedder import topic_coherence\n",
    "\n",
    "total = 0\n",
    "for i in range(5):\n",
    "    total += topic_coherence([topic[0] for topic in topic_model.get_topic(i)])\n",
    "\n",
    "total / 5"
   ]
  },
  {
   "cell_type": "code",
   "execution_count": 47,
   "id": "113993e2-ebcc-447a-9879-8fc38b69cd06",
   "metadata": {
    "tags": []
   },
   "outputs": [
    {
     "data": {
      "text/plain": [
       "0.0649122807017544"
      ]
     },
     "execution_count": 47,
     "metadata": {},
     "output_type": "execute_result"
    }
   ],
   "source": [
    "from src.embedder import mean_pairwise_jaccard\n",
    "\n",
    "mean_pairwise_jaccard([[topic[0] for topic in topic_model.get_topic(i)] for i in range(5)])"
   ]
  },
  {
   "cell_type": "code",
   "execution_count": null,
   "id": "29d886bd-9d63-4bc1-a301-508eeff93d16",
   "metadata": {},
   "outputs": [],
   "source": []
  }
 ],
 "metadata": {
  "kernelspec": {
   "display_name": "Python 3 (ipykernel)",
   "language": "python",
   "name": "python3"
  },
  "language_info": {
   "codemirror_mode": {
    "name": "ipython",
    "version": 3
   },
   "file_extension": ".py",
   "mimetype": "text/x-python",
   "name": "python",
   "nbconvert_exporter": "python",
   "pygments_lexer": "ipython3",
   "version": "3.10.6"
  }
 },
 "nbformat": 4,
 "nbformat_minor": 5
}
