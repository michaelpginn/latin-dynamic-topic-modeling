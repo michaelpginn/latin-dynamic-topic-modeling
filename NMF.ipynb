{
 "cells": [
  {
   "cell_type": "code",
   "execution_count": 1,
   "id": "f01152bb-c13d-47ac-ba51-ee193ce4b3c0",
   "metadata": {
    "collapsed": true,
    "jupyter": {
     "outputs_hidden": true
    },
    "tags": []
   },
   "outputs": [
    {
     "name": "stdout",
     "output_type": "stream",
     "text": [
      "Loading corpus...\n",
      "Loaded 2141 texts.\n",
      "Couldn't find epistaustras.txt\n",
      "Couldn't find asserius.txt\n",
      "Couldn't find appverg.catalepton.txt\n",
      "Couldn't find xanten.txt\n",
      "Couldn't find fragmentumlaurentianum.txt\n",
      "Couldn't find dares1.txt\n",
      "Couldn't find inscriptions.txt\n",
      "Couldn't find appvergculex.txt\n",
      "Couldn't find epitaphs.txt\n",
      "Couldn't find cato.dis.txt\n",
      "Couldn't find pulchracomis.txt\n",
      "Couldn't find hymni.txt\n",
      "Couldn't find baldo.txt\n",
      "Couldn't find columba2.txt\n",
      "Couldn't find diravi.txt\n",
      "Couldn't find lucernarium.txt\n",
      "Couldn't find appvergcomp.txt\n",
      "Couldn't find carmenarvale.txt\n",
      "Couldn't find columba1.txt\n",
      "Couldn't find valesianus1.txt\n",
      "Couldn't find index.txt\n",
      "Couldn't find nivis.txt\n",
      "Couldn't find carmensaliare.txt\n",
      "Couldn't find dares.txt\n",
      "Couldn't find appverg.aetna.txt\n",
      "Couldn't find valesianus2.txt\n",
      "Couldn't find appverg.ciris.txt\n",
      "Couldn't find liberpontificalis1.txt\n",
      "Couldn't find indices.txt\n",
      "Couldn't find walton.txt\n",
      "Couldn't find creeds.txt\n",
      "Couldn't find donation.txt\n",
      "Couldn't find precatio.txt\n",
      "Couldn't find caeciliusbalbus.txt\n",
      "Couldn't find valesianus.txt\n",
      "Couldn't find protospatarius.txt\n",
      "Couldn't find ep.priapismo.txt\n",
      "Couldn't find tevigilans.txt\n",
      "Couldn't find ave.phoen.txt\n",
      "Couldn't find calpurniussiculus.txt\n",
      "Couldn't find dicquid.txt\n",
      "Couldn't find prec.terr.txt\n",
      "Couldn't find dumdomus.txt\n",
      "Couldn't find pervig.txt\n",
      "Couldn't find ampelius.txt\n",
      "Couldn't find ipsavivere.txt\n",
      "Couldn't find diesirae.txt\n",
      "Couldn't find comes.txt\n",
      "Couldn't find bible/tobia.txt\n",
      "Couldn't find bible/jeremiah.txt\n",
      "Couldn't find bible/amos.txt\n",
      "Couldn't find bible/prologi.txt\n",
      "Couldn't find bible/esdras2.txt\n",
      "Couldn't find bible/joshua.txt\n",
      "Couldn't find bible/nahum.txt\n",
      "Couldn't find bible/zephaniah.txt\n",
      "Couldn't find bible/obadiah.txt\n",
      "Couldn't find bible/exodus.txt\n",
      "Couldn't find bible/esdras1.txt\n",
      "Couldn't find bible/numbers.txt\n",
      "Couldn't find bible/judges.txt\n",
      "Couldn't find bible/thessalonians2.txt\n",
      "Couldn't find bible/samuel2.txt\n",
      "Couldn't find bible/timothy1.txt\n",
      "Couldn't find bible/chronicles2.txt\n",
      "Couldn't find bible/ezra.txt\n",
      "Couldn't find bible/ephesians.txt\n",
      "Couldn't find bible/thessalonians1.txt\n",
      "Couldn't find bible/acts.txt\n",
      "Couldn't find bible/timothy2.txt\n",
      "Couldn't find bible/samuel1.txt\n",
      "Couldn't find bible/chronicles1.txt\n",
      "Couldn't find bible/zacharias.txt\n",
      "Couldn't find bible/matthew.txt\n",
      "Couldn't find bible/luke.txt\n",
      "Couldn't find bible/isaiah.txt\n",
      "Couldn't find bible/macabees1.txt\n",
      "Couldn't find bible/galatians.txt\n",
      "Couldn't find bible/joel.txt\n",
      "Couldn't find bible/proverbs.txt\n",
      "Couldn't find bible/macabees2.txt\n",
      "Couldn't find bible/john.txt\n",
      "Couldn't find bible/romans.txt\n",
      "Couldn't find bible/haggai.txt\n",
      "Couldn't find bible/nehemiah.txt\n",
      "Couldn't find bible/genesis.txt\n",
      "Couldn't find bible/kings1.txt\n",
      "Couldn't find bible/peter2.txt\n",
      "Couldn't find bible/hebrews.txt\n",
      "Couldn't find bible/corinthians2.txt\n",
      "Couldn't find bible/esther.txt\n",
      "Couldn't find bible/psalms.txt\n",
      "Couldn't find bible/kings2.txt\n",
      "Couldn't find bible/job.txt\n",
      "Couldn't find bible/peter1.txt\n",
      "Couldn't find bible/corinthians1.txt\n",
      "Couldn't find bible/mark.txt\n",
      "Couldn't find bible/daniel.txt\n",
      "Couldn't find bible/judith.txt\n",
      "Couldn't find bible/ruth.txt\n",
      "Couldn't find bible/micah.txt\n",
      "Couldn't find bible/revelation.txt\n",
      "Couldn't find bible/baruch.txt\n",
      "Couldn't find bible/habakkuk.txt\n",
      "Couldn't find bible/titum.txt\n",
      "Couldn't find bible/jonah.txt\n",
      "Couldn't find bible/wisdom.txt\n",
      "Couldn't find bible/james.txt\n",
      "Couldn't find bible/sirach.txt\n",
      "Couldn't find bible/hosea.txt\n",
      "Couldn't find bible/philemon.txt\n",
      "Couldn't find bible/deuteronomy.txt\n",
      "Couldn't find bible/songofsongs.txt\n",
      "Couldn't find bible/john1.txt\n",
      "Couldn't find bible/ecclesiastes.txt\n",
      "Couldn't find bible/lamentations.txt\n",
      "Couldn't find bible/colossians.txt\n",
      "Couldn't find bible/john2.txt\n",
      "Couldn't find bible/manasses.txt\n",
      "Couldn't find bible/leviticus.txt\n",
      "Couldn't find bible/jude.txt\n",
      "Couldn't find bible/ezekiel.txt\n",
      "Couldn't find bible/malachias.txt\n",
      "Couldn't find bible/philip.txt\n",
      "Couldn't find bible/john3.txt\n",
      "Couldn't find justin/29.txt\n",
      "Couldn't find justin/15.txt\n",
      "Couldn't find justin/14.txt\n",
      "Couldn't find justin/28.txt\n",
      "Couldn't find justin/prologi.txt\n",
      "Couldn't find justin/16.txt\n",
      "Couldn't find justin/17.txt\n",
      "Couldn't find justin/13.txt\n",
      "Couldn't find justin/12.txt\n",
      "Couldn't find justin/10.txt\n",
      "Couldn't find justin/38.txt\n",
      "Couldn't find justin/39.txt\n",
      "Couldn't find justin/11.txt\n",
      "Couldn't find justin/9.txt\n",
      "Couldn't find justin/8.txt\n",
      "Couldn't find justin/5.txt\n",
      "Couldn't find justin/43.txt\n",
      "Couldn't find justin/42.txt\n",
      "Couldn't find justin/4.txt\n",
      "Couldn't find justin/praefatio.txt\n",
      "Couldn't find justin/40.txt\n",
      "Couldn't find justin/6.txt\n",
      "Couldn't find justin/7.txt\n",
      "Couldn't find justin/41.txt\n",
      "Couldn't find justin/3.txt\n",
      "Couldn't find justin/2.txt\n",
      "Couldn't find justin/44.txt\n",
      "Couldn't find justin/1.txt\n",
      "Couldn't find justin/34.txt\n",
      "Couldn't find justin/20.txt\n",
      "Couldn't find justin/21.txt\n",
      "Couldn't find justin/35.txt\n",
      "Couldn't find justin/23.txt\n",
      "Couldn't find justin/37.txt\n",
      "Couldn't find justin/36.txt\n",
      "Couldn't find justin/22.txt\n",
      "Couldn't find justin/26.txt\n",
      "Couldn't find justin/32.txt\n",
      "Couldn't find justin/33.txt\n",
      "Couldn't find justin/27.txt\n",
      "Couldn't find justin/31.txt\n",
      "Couldn't find justin/25.txt\n",
      "Couldn't find justin/19.txt\n",
      "Couldn't find justin/18.txt\n",
      "Couldn't find justin/24.txt\n",
      "Couldn't find justin/30.txt\n",
      "Couldn't find sha/claud.txt\n",
      "Couldn't find sha/firmus.txt\n",
      "Couldn't find sha/sepsev.txt\n",
      "Couldn't find sha/diad.txt\n",
      "Couldn't find sha/ant.txt\n",
      "Couldn't find sha/maxbal.txt\n",
      "Couldn't find sha/mac.txt\n",
      "Couldn't find sha/verus.txt\n",
      "Couldn't find sha/helio.txt\n",
      "Couldn't find sha/carus.txt\n",
      "Couldn't find sha/avid.txt\n",
      "Couldn't find sha/probus.txt\n",
      "Couldn't find sha/aurel.txt\n",
      "Couldn't find sha/tacitus.txt\n",
      "Couldn't find sha/clod.txt\n",
      "Couldn't find sha/didiul.txt\n",
      "Couldn't find sha/aelii.txt\n",
      "Couldn't find sha/geta.txt\n",
      "Couldn't find sha/hadr.txt\n",
      "Couldn't find sha/pert.txt\n",
      "Couldn't find sha/gall.txt\n",
      "Couldn't find sha/alexsev.txt\n",
      "Couldn't find sha/pesc.txt\n",
      "Couldn't find sha/marcant.txt\n",
      "Couldn't find sha/gord.txt\n",
      "Couldn't find sha/max.txt\n",
      "Couldn't find sha/val.txt\n",
      "Couldn't find sha/com.txt\n",
      "Couldn't find sha/car.txt\n",
      "Couldn't find sha/30.txt\n",
      "Couldn't find apicius/apicius3.txt\n",
      "Couldn't find apicius/apicius2.txt\n",
      "Couldn't find apicius/apicius1.txt\n",
      "Couldn't find apicius/apicius5.txt\n",
      "Couldn't find apicius/apicius4.txt\n"
     ]
    },
    {
     "data": {
      "text/plain": [
       "[2, 2, 32, 235, 446, 141, 65, 76, 193, 158]"
      ]
     },
     "execution_count": 1,
     "metadata": {},
     "output_type": "execute_result"
    }
   ],
   "source": [
    "from cltk.data.fetch import FetchCorpus\n",
    "corpus_downloader = FetchCorpus(language=\"lat\")\n",
    "corpus_downloader.import_corpus(\"lat_models_cltk\")\n",
    "\n",
    "import pandas as pd\n",
    "from src.corpus import load_corpus\n",
    "documents = load_corpus()\n",
    "\n",
    "dates = pd.read_csv('LatLibDates-Filtered.csv')\n",
    "documents_with_dates = []\n",
    "all_dates = []\n",
    "\n",
    "for doc in documents:\n",
    "    title = doc[0][39:] # Chop off the file name\n",
    "    if (dates['V1'] == title).any():\n",
    "        date = dates[dates['V1'] == title].values[0][1]\n",
    "        if date <= 13:\n",
    "            # Convert to year\n",
    "            date = -700 + date * 100\n",
    "            all_dates.append(date)\n",
    "            documents_with_dates.append(doc)\n",
    "    else:\n",
    "        print(f\"Couldn't find {title}\")\n",
    "\n",
    "# Sort documents by date and split into bins\n",
    "sorted_docs = sorted(zip(documents_with_dates, all_dates), key=lambda pair: pair[1])\n",
    "\n",
    "num_bins = 10\n",
    "bin_size = (max(all_dates) - min(all_dates))/num_bins\n",
    "bin_counts = [0] * num_bins\n",
    "current_bin = 1\n",
    "\n",
    "# Separate docs into bins\n",
    "for (doc, date) in sorted_docs:\n",
    "    if date > (current_bin * bin_size) + min(all_dates):\n",
    "        # Move to the next bin\n",
    "        current_bin += 1\n",
    "    bin_counts[current_bin - 1] += 1\n",
    "bin_counts    "
   ]
  },
  {
   "cell_type": "code",
   "execution_count": 3,
   "id": "ec7a4f45-e0f0-497a-a1b1-eb1ea6bb9b14",
   "metadata": {
    "collapsed": true,
    "jupyter": {
     "outputs_hidden": true
    },
    "tags": []
   },
   "outputs": [
    {
     "data": {
      "application/vnd.jupyter.widget-view+json": {
       "model_id": "7374222e4fa645d7a3f9367afa19226b",
       "version_major": 2,
       "version_minor": 0
      },
      "text/plain": [
       "  0%|          | 0/1350 [00:00<?, ?it/s]"
      ]
     },
     "metadata": {},
     "output_type": "display_data"
    },
    {
     "data": {
      "text/plain": [
       "['duodecim',\n",
       " 'tabularis',\n",
       " 'lex',\n",
       " 'duodecim',\n",
       " 'tabularis',\n",
       " 'lex',\n",
       " 'tabula',\n",
       " 'eo',\n",
       " 'ius',\n",
       " 'voco',\n",
       " 'eo',\n",
       " 'ni',\n",
       " 'eo',\n",
       " 'antestamino',\n",
       " 'em',\n",
       " 'capito',\n",
       " 'calvo',\n",
       " 'pedo1',\n",
       " 'struo',\n",
       " 'manus',\n",
       " 'endo',\n",
       " 'jacio',\n",
       " 'morbus',\n",
       " 'aevitasve',\n",
       " 'vitium',\n",
       " 'ex-scio',\n",
       " 'jumentum',\n",
       " 'do',\n",
       " 'nolo',\n",
       " 'arcera',\n",
       " 'sterno',\n",
       " 'assiduus2',\n",
       " 'vindex',\n",
       " 'assiduus1',\n",
       " 'proletarius',\n",
       " 'cieo',\n",
       " 'volo1',\n",
       " 'vindex',\n",
       " 'nex',\n",
       " 'fortis',\n",
       " 'sano',\n",
       " 'res',\n",
       " 'pacunt',\n",
       " 'oro',\n",
       " 'ni',\n",
       " 'pacunt',\n",
       " 'comitium',\n",
       " 'forum',\n",
       " 'meridio',\n",
       " 'caussam',\n",
       " 'coiciunto',\n",
       " 'com',\n",
       " 'peroro',\n",
       " 'ambo',\n",
       " 'praesens',\n",
       " 'meridio',\n",
       " 'praesens',\n",
       " 'lito',\n",
       " 'addico',\n",
       " 'ambo',\n",
       " 'praesens',\n",
       " 'sol',\n",
       " 'occido',\n",
       " 'superus',\n",
       " 'tempestas',\n",
       " 'vado1',\n",
       " 'subvades',\n",
       " 'tabula',\n",
       " '<actor',\n",
       " 'dico2',\n",
       " 'sponsio',\n",
       " 'do',\n",
       " 'oportet',\n",
       " 'aio',\n",
       " 'quando',\n",
       " 'nego',\n",
       " 'praetor',\n",
       " 'judico',\n",
       " 'arbiter',\n",
       " 'postulo',\n",
       " 'uti',\n",
       " 'des.',\n",
       " '. . .',\n",
       " 'morbus',\n",
       " 'sonticus',\n",
       " 'status',\n",
       " 'dies',\n",
       " 'hostis',\n",
       " 'judicium',\n",
       " 'arbiter',\n",
       " 'reor',\n",
       " 'dies',\n",
       " 'diffindo',\n",
       " 'testimonium',\n",
       " 'desum',\n",
       " 'tertius',\n",
       " 'dies',\n",
       " 'portus',\n",
       " 'obvagulo',\n",
       " 'eo',\n",
       " 'tabula',\n",
       " 'iii',\n",
       " 'aer',\n",
       " 'confiteor',\n",
       " 'res',\n",
       " 'ius',\n",
       " 'judico',\n",
       " 'xxx',\n",
       " 'dies',\n",
       " 'justus',\n",
       " 'manus',\n",
       " 'injectio',\n",
       " 'ius',\n",
       " 'duco',\n",
       " 'ni',\n",
       " 'iudico',\n",
       " 'facio',\n",
       " 'endo',\n",
       " 'ius',\n",
       " 'vindicit',\n",
       " 'duco',\n",
       " 'vincio',\n",
       " 'nervus',\n",
       " 'compedibus',\n",
       " 'xv',\n",
       " 'pondo',\n",
       " 'magnus',\n",
       " 'volo1',\n",
       " 'paruus',\n",
       " 'vincio',\n",
       " 'volo1',\n",
       " 'vivo',\n",
       " 'ni',\n",
       " 'vivo',\n",
       " 'vincio',\n",
       " 'habeo',\n",
       " 'libro',\n",
       " 'faris',\n",
       " 'endo',\n",
       " 'dies',\n",
       " 'do',\n",
       " 'volo1',\n",
       " 'multus',\n",
       " 'do',\n",
       " 'tertius',\n",
       " 'nundo',\n",
       " 'pars',\n",
       " 'seco',\n",
       " 'multus',\n",
       " 'parvus',\n",
       " 'seco',\n",
       " 'fraus',\n",
       " 'adverro',\n",
       " 'hostis',\n",
       " 'aeternus',\n",
       " 'auctoritas',\n",
       " '<esto>',\n",
       " 'aulus1',\n",
       " 'gellius',\n",
       " '20',\n",
       " 'eo',\n",
       " '46',\n",
       " 'ius',\n",
       " 'interea',\n",
       " 'pacisco',\n",
       " 'paciscor',\n",
       " 'habeo',\n",
       " 'vinculis',\n",
       " 'dies',\n",
       " 'lx',\n",
       " 'dies',\n",
       " 'terni',\n",
       " 'nundo',\n",
       " 'continuus',\n",
       " 'praetor',\n",
       " 'comitium',\n",
       " 'produco',\n",
       " 'quantus',\n",
       " 'pecunia',\n",
       " 'iudico',\n",
       " 'praedico',\n",
       " 'tertius',\n",
       " 'nundo',\n",
       " 'caput',\n",
       " 'poena',\n",
       " 'dabant,aut',\n",
       " 'tiberis',\n",
       " 'peregre',\n",
       " 'venum',\n",
       " 'ibant.',\n",
       " 'tabula',\n",
       " 'iv',\n",
       " 'pater',\n",
       " 'filius',\n",
       " 'ter',\n",
       " 'venum',\n",
       " 'do',\n",
       " 'filius',\n",
       " 'pater',\n",
       " 'liber',\n",
       " 'tabula',\n",
       " 'v',\n",
       " 'uti',\n",
       " 'legassit',\n",
       " 'pecunia',\n",
       " 'tutelave',\n",
       " 'res',\n",
       " 'ius',\n",
       " 'intestato',\n",
       " 'morior',\n",
       " 'heres',\n",
       " 'ex-scio',\n",
       " 'adgnatus',\n",
       " 'proximus',\n",
       " 'familia',\n",
       " 'habeo',\n",
       " 'adgnatus',\n",
       " 'ex-scio',\n",
       " 'gentilis',\n",
       " 'familia',\n",
       " 'habeo',\n",
       " 'gaius',\n",
       " 'eo',\n",
       " '.155',\n",
       " 'testamentum',\n",
       " '...',\n",
       " 'tuto',\n",
       " 'do',\n",
       " 'lex',\n",
       " 'duodecim',\n",
       " 'tabularis',\n",
       " 'agnascor',\n",
       " 'tutores.',\n",
       " 'furiosus',\n",
       " 'ex-scio',\n",
       " 'adgnatum',\n",
       " 'gentilis',\n",
       " 'pecunia',\n",
       " 'potestas',\n",
       " '. . . .',\n",
       " 'custos',\n",
       " 'ex-scio',\n",
       " 'familia',\n",
       " 'familia',\n",
       " 'tabula',\n",
       " 'vis',\n",
       " 'necto',\n",
       " 'facio',\n",
       " 'mancipium',\n",
       " 'uti',\n",
       " 'lingua',\n",
       " 'nuncupassit',\n",
       " 'ius',\n",
       " 'ius',\n",
       " 'manus',\n",
       " 'consero1',\n",
       " 'tignum',\n",
       " 'jungo',\n",
       " 'aedes',\n",
       " 'vinea',\n",
       " 'se-eo1',\n",
       " 'concapit',\n",
       " 'solvo',\n",
       " '. . .',\n",
       " 'duplio',\n",
       " 'quandoque',\n",
       " 'sarpo',\n",
       " 'donec',\n",
       " 'dempta',\n",
       " 'gaius',\n",
       " 'eo',\n",
       " '111',\n",
       " 'lex',\n",
       " 'duodecim',\n",
       " 'tabularis',\n",
       " 'caueo',\n",
       " 'nolo',\n",
       " 'usus',\n",
       " 'manus',\n",
       " 'maritus',\n",
       " 'convenio',\n",
       " 'quot',\n",
       " 'trinoctium',\n",
       " 'absum',\n",
       " 'annus',\n",
       " 'usus',\n",
       " 'interrumperet.',\n",
       " 'tabula',\n",
       " 'vii',\n",
       " 'ambitus',\n",
       " 'sestertius',\n",
       " 'pes',\n",
       " 'jurgo',\n",
       " 'tres',\n",
       " 'arbiter',\n",
       " 'via',\n",
       " 'munio',\n",
       " 'ni',\n",
       " 'sam',\n",
       " 'delapidassint',\n",
       " 'volo1',\n",
       " 'jumentum',\n",
       " 'ago',\n",
       " 'aqua',\n",
       " 'pluvia',\n",
       " 'noceo',\n",
       " 'tabula',\n",
       " 'viii',\n",
       " 'malus',\n",
       " 'carmen',\n",
       " 'incantassit',\n",
       " 'membrum',\n",
       " 'rup<s>it',\n",
       " 'ni',\n",
       " 'pacit',\n",
       " 'talio',\n",
       " 'manus',\n",
       " 'fustive',\n",
       " 'os',\n",
       " 'frango',\n",
       " 'liber',\n",
       " 'ccc',\n",
       " '<assium>',\n",
       " 'servo',\n",
       " 'cl',\n",
       " '<assium>',\n",
       " 'poena',\n",
       " 'subeo',\n",
       " 'iniuria',\n",
       " 'faxsit',\n",
       " 'viginti',\n",
       " 'quinque',\n",
       " 'poena',\n",
       " '<asses>',\n",
       " 'sunto.',\n",
       " '. . .',\n",
       " 'rup<s>it',\n",
       " 'sarcio',\n",
       " 'frugis',\n",
       " 'excantassit',\n",
       " 'neve',\n",
       " 'alienus',\n",
       " 'seges',\n",
       " 'pellicio',\n",
       " '<capite>',\n",
       " 'nox',\n",
       " 'furtum',\n",
       " 'faxsit',\n",
       " 'occaedes',\n",
       " 'ius',\n",
       " 'caedo',\n",
       " 'lucius',\n",
       " 'telum',\n",
       " 'defendo',\n",
       " 'endoque',\n",
       " 'ploro',\n",
       " 'lanx',\n",
       " 'licium',\n",
       " '<ito>',\n",
       " 'adoro',\n",
       " 'furtum',\n",
       " 'manifestus',\n",
       " '<duplio',\n",
       " 'damnum',\n",
       " 'decidito>',\n",
       " 'patronus',\n",
       " 'cliens',\n",
       " 'fraudo',\n",
       " 'facio',\n",
       " 'sacer',\n",
       " 'sierit',\n",
       " 'testo',\n",
       " 'libripensve',\n",
       " 'ni',\n",
       " 'testimonium',\n",
       " 'fatiatur',\n",
       " 'improbus',\n",
       " 'intestabilis1',\n",
       " 'telis',\n",
       " 'manus',\n",
       " 'fugio',\n",
       " 'jacio',\n",
       " '<arietem',\n",
       " 'subicito>',\n",
       " 'tabula',\n",
       " 'ix',\n",
       " '<privilegia',\n",
       " 'inroganto.>',\n",
       " '<de',\n",
       " 'caput',\n",
       " 'civis',\n",
       " 'magnus',\n",
       " 'comitio',\n",
       " 'ferunto.>',\n",
       " 'tabula',\n",
       " 'decem',\n",
       " 'homo',\n",
       " 'mortuus',\n",
       " 'urbs',\n",
       " 'sepelio',\n",
       " 'neve',\n",
       " 'urito.',\n",
       " '. . .',\n",
       " 'multus',\n",
       " 'facio',\n",
       " 'rogus',\n",
       " 'ascea',\n",
       " 'polio1',\n",
       " 'mulier',\n",
       " 'gena',\n",
       " 'rado',\n",
       " 'neve',\n",
       " 'lessus',\n",
       " 'funus',\n",
       " 'habeo',\n",
       " 'homo',\n",
       " 'mortuus',\n",
       " 'os',\n",
       " 'lego2',\n",
       " 'funus',\n",
       " 'facio',\n",
       " 'corona',\n",
       " 'pario',\n",
       " 'pecunia',\n",
       " 'honor',\n",
       " 'virtutisve',\n",
       " 'ergoduitur',\n",
       " 'neve',\n",
       " 'aurum',\n",
       " 'addo',\n",
       " 'aurum',\n",
       " 'dens',\n",
       " 'jungo',\n",
       " 'escunt',\n",
       " 'sepelio',\n",
       " 'uretve',\n",
       " 'fraus',\n",
       " 'tabula',\n",
       " 'xi',\n",
       " '<conubia',\n",
       " 'plebs',\n",
       " 'patribus>',\n",
       " 'cicero',\n",
       " 're-publico',\n",
       " '36-37',\n",
       " 'xviri',\n",
       " 'decem',\n",
       " 'tabula',\n",
       " 'summus',\n",
       " 'lex',\n",
       " 'aequitas',\n",
       " 'prudens',\n",
       " 'conscribo',\n",
       " 'annus',\n",
       " 'posterus',\n",
       " 'xviros',\n",
       " 'alius',\n",
       " 'sub-rogo',\n",
       " '...',\n",
       " 'duo',\n",
       " 'tabula',\n",
       " 'iniquaris',\n",
       " 'lex',\n",
       " 'addo',\n",
       " '...',\n",
       " 'conubium',\n",
       " 'plebes',\n",
       " 'pater',\n",
       " 'inhumanus',\n",
       " 'lex',\n",
       " 'sanxerunt.',\n",
       " 'dies',\n",
       " 'intercalo',\n",
       " '. . .',\n",
       " '. . .',\n",
       " 'dies',\n",
       " 'faveo',\n",
       " 'tabula',\n",
       " 'duodecim',\n",
       " 'servo',\n",
       " 'furtum',\n",
       " 'facio',\n",
       " 'noxia',\n",
       " 'no<x>it',\n",
       " 'vindicia',\n",
       " 'falsus',\n",
       " 'fero',\n",
       " 'volo',\n",
       " 'tor',\n",
       " 'arbiter',\n",
       " 'tres',\n",
       " 'do',\n",
       " 'arbitrium',\n",
       " 'fructus',\n",
       " 'duplio',\n",
       " 'damnum',\n",
       " 'decido1',\n",
       " 'ius',\n",
       " 'romanus',\n",
       " 'thos',\n",
       " 'latus',\n",
       " '-ne',\n",
       " 'library',\n",
       " 'thos',\n",
       " 'classics',\n",
       " 'pagus']"
      ]
     },
     "execution_count": 3,
     "metadata": {},
     "output_type": "execute_result"
    }
   ],
   "source": [
    "# Preprocess documents\n",
    "from cltk.tokenizers.lat.lat import LatinWordTokenizer\n",
    "from cltk.lemmatize.lat import LatinBackoffLemmatizer\n",
    "from cltk.stops.words import Stops\n",
    "from tqdm.notebook import tqdm\n",
    "\n",
    "stops = Stops(iso_code='lat').stops + ['punc', 'quod', 'se', 'sunt', 'esse', 'tibi', 'mihi', 'te', 'quid', 'me', 'hoc', 'cum2', 'meus', 'tuus', 'the', 'ejus', 'dig', 'iste', 'nunc', 'ed', 'ch', 'vel', 'cj', 'aa', 'pp', 'cth']\n",
    "\n",
    "tokenizer = LatinWordTokenizer()\n",
    "lemmatizer = LatinBackoffLemmatizer()\n",
    "\n",
    "tokenized_documents = []\n",
    "for document, date in tqdm(sorted_docs):\n",
    "    text = document[1]\n",
    "    tokenized = [token.lower() for token in tokenizer.tokenize(document[1])]\n",
    "    lemmatized = [lemma[1] for lemma in lemmatizer.lemmatize(tokenized)]\n",
    "    lemmatized = [token for token in lemmatized if token not in stops]\n",
    "    tokenized_documents.append(lemmatized)\n",
    "\n",
    "tokenized_documents[0]"
   ]
  },
  {
   "cell_type": "code",
   "execution_count": 86,
   "id": "e1c8a479-c4e9-4ae5-ae49-dd0888f6299f",
   "metadata": {
    "tags": []
   },
   "outputs": [
    {
     "name": "stdout",
     "output_type": "stream",
     "text": [
      "Creating document term matrix...\n"
     ]
    },
    {
     "data": {
      "application/vnd.jupyter.widget-view+json": {
       "model_id": "dd221c3b906b46bba6029f709cee9263",
       "version_major": 2,
       "version_minor": 0
      },
      "text/plain": [
       "  0%|          | 0/10 [00:00<?, ?it/s]"
      ]
     },
     "metadata": {},
     "output_type": "display_data"
    },
    {
     "name": "stdout",
     "output_type": "stream",
     "text": [
      "Applying NMF...\n",
      "W (docs-topics): (10, 8)\n",
      "H (topics-terms): (8, 78734)\n"
     ]
    }
   ],
   "source": [
    "from collections import defaultdict\n",
    "import numpy as np\n",
    "from sklearn import decomposition, feature_extraction\n",
    "from tqdm.notebook import tqdm\n",
    "\n",
    "# remove words that appear only once\n",
    "frequency = defaultdict(int)\n",
    "for text in tokenized_documents:\n",
    "    for token in text:\n",
    "        frequency[token] += 1\n",
    "        \n",
    "vocabulary = [token for token in frequency if frequency[token] > 1]\n",
    "        \n",
    "\n",
    "tfidf = feature_extraction.text.TfidfTransformer()\n",
    "    \n",
    "def nmf(docs, terms, k):\n",
    "    # Create document term matrix\n",
    "    print(\"Creating document term matrix...\")\n",
    "    doc_term = np.zeros((len(docs), len(terms)))\n",
    "    for i, doc in tqdm(enumerate(docs), total=len(docs)):\n",
    "        for j, term in enumerate(terms):\n",
    "            doc_term[i, j] = doc.count(term)\n",
    "            \n",
    "    doc_term = tfidf.fit_transform(doc_term)\n",
    "    \n",
    "    print(\"Applying NMF...\")\n",
    "    model = decomposition.NMF(n_components=k, init='nndsvd', random_state=0)\n",
    "    W = model.fit_transform(doc_term)\n",
    "    H = model.components_\n",
    "    return W, H\n",
    "\n",
    "W, H = nmf(tokenized_documents[:10], vocabulary, 8)\n",
    "print(f\"W (docs-topics): {W.shape}\")\n",
    "print(f\"H (topics-terms): {H.shape}\")"
   ]
  },
  {
   "cell_type": "code",
   "execution_count": 87,
   "id": "d5e20145-5e99-4087-95f6-24e34a9dc798",
   "metadata": {
    "tags": []
   },
   "outputs": [
    {
     "data": {
      "application/vnd.jupyter.widget-view+json": {
       "model_id": "3362da974cb64a5989358490028d3f4f",
       "version_major": 2,
       "version_minor": 0
      },
      "text/plain": [
       "  0%|          | 0/8 [00:00<?, ?it/s]"
      ]
     },
     "metadata": {},
     "output_type": "display_data"
    },
    {
     "name": "stdout",
     "output_type": "stream",
     "text": [
      "Creating document term matrix...\n"
     ]
    },
    {
     "data": {
      "application/vnd.jupyter.widget-view+json": {
       "model_id": "c3ce0da18c604f8194932a3eb85e9fec",
       "version_major": 2,
       "version_minor": 0
      },
      "text/plain": [
       "  0%|          | 0/32 [00:00<?, ?it/s]"
      ]
     },
     "metadata": {},
     "output_type": "display_data"
    },
    {
     "name": "stdout",
     "output_type": "stream",
     "text": [
      "Applying NMF...\n",
      "Creating document term matrix...\n"
     ]
    },
    {
     "data": {
      "application/vnd.jupyter.widget-view+json": {
       "model_id": "2914d8057ddc48ebb24f3027142df633",
       "version_major": 2,
       "version_minor": 0
      },
      "text/plain": [
       "  0%|          | 0/235 [00:00<?, ?it/s]"
      ]
     },
     "metadata": {},
     "output_type": "display_data"
    },
    {
     "name": "stdout",
     "output_type": "stream",
     "text": [
      "Applying NMF...\n",
      "Creating document term matrix...\n"
     ]
    },
    {
     "data": {
      "application/vnd.jupyter.widget-view+json": {
       "model_id": "0bfc8e6e473249a497e4d4dfc52534de",
       "version_major": 2,
       "version_minor": 0
      },
      "text/plain": [
       "  0%|          | 0/446 [00:00<?, ?it/s]"
      ]
     },
     "metadata": {},
     "output_type": "display_data"
    },
    {
     "name": "stdout",
     "output_type": "stream",
     "text": [
      "Applying NMF...\n",
      "Creating document term matrix...\n"
     ]
    },
    {
     "data": {
      "application/vnd.jupyter.widget-view+json": {
       "model_id": "b03cedc212414a68a72acb7da6a7d57c",
       "version_major": 2,
       "version_minor": 0
      },
      "text/plain": [
       "  0%|          | 0/141 [00:00<?, ?it/s]"
      ]
     },
     "metadata": {},
     "output_type": "display_data"
    },
    {
     "name": "stdout",
     "output_type": "stream",
     "text": [
      "Applying NMF...\n",
      "Creating document term matrix...\n"
     ]
    },
    {
     "data": {
      "application/vnd.jupyter.widget-view+json": {
       "model_id": "2b27cfbeef7e4a7fa39249612f3e54d7",
       "version_major": 2,
       "version_minor": 0
      },
      "text/plain": [
       "  0%|          | 0/65 [00:00<?, ?it/s]"
      ]
     },
     "metadata": {},
     "output_type": "display_data"
    },
    {
     "name": "stdout",
     "output_type": "stream",
     "text": [
      "Applying NMF...\n",
      "Creating document term matrix...\n"
     ]
    },
    {
     "data": {
      "application/vnd.jupyter.widget-view+json": {
       "model_id": "7440c4e58ec44c80911f171dddcddc3c",
       "version_major": 2,
       "version_minor": 0
      },
      "text/plain": [
       "  0%|          | 0/76 [00:00<?, ?it/s]"
      ]
     },
     "metadata": {},
     "output_type": "display_data"
    },
    {
     "name": "stdout",
     "output_type": "stream",
     "text": [
      "Applying NMF...\n",
      "Creating document term matrix...\n"
     ]
    },
    {
     "data": {
      "application/vnd.jupyter.widget-view+json": {
       "model_id": "d0ccff90051641d09a8ad5a8ab97a080",
       "version_major": 2,
       "version_minor": 0
      },
      "text/plain": [
       "  0%|          | 0/193 [00:00<?, ?it/s]"
      ]
     },
     "metadata": {},
     "output_type": "display_data"
    },
    {
     "name": "stdout",
     "output_type": "stream",
     "text": [
      "Applying NMF...\n",
      "Creating document term matrix...\n"
     ]
    },
    {
     "data": {
      "application/vnd.jupyter.widget-view+json": {
       "model_id": "4cfd66af2e6242bb965249405fa630b7",
       "version_major": 2,
       "version_minor": 0
      },
      "text/plain": [
       "  0%|          | 0/158 [00:00<?, ?it/s]"
      ]
     },
     "metadata": {},
     "output_type": "display_data"
    },
    {
     "name": "stdout",
     "output_type": "stream",
     "text": [
      "Applying NMF...\n"
     ]
    }
   ],
   "source": [
    "# Skip the first 2 bins, too small!\n",
    "window_topic_models = []\n",
    "\n",
    "cur_index = 4\n",
    "for bin_count in tqdm(bin_counts[2:]):\n",
    "    window_docs = tokenized_documents[cur_index:cur_index + bin_count]\n",
    "    W, H = nmf(window_docs, vocabulary, 8)\n",
    "    window_topic_models.append((W, H))"
   ]
  },
  {
   "cell_type": "code",
   "execution_count": 89,
   "id": "46e46ee3-7226-4bec-9f02-f42d4025d56c",
   "metadata": {
    "tags": []
   },
   "outputs": [],
   "source": [
    "import pickle\n",
    "\n",
    "with open(\"nmf_window_topic_models.pkl\", \"wb\") as f:\n",
    "    pickle.dump(window_topic_models, f)\n",
    "    \n",
    "# with open('nmf_window_topic_models.pkl', 'rb') as f:\n",
    "#     loaded_data = pickle.load(f)"
   ]
  },
  {
   "cell_type": "code",
   "execution_count": 90,
   "id": "8b0fa2ef-dff2-46bc-81fe-625b4316b37f",
   "metadata": {
    "tags": []
   },
   "outputs": [
    {
     "name": "stdout",
     "output_type": "stream",
     "text": [
      "B matrix: (64, 171)\n"
     ]
    }
   ],
   "source": [
    "num_terms = 10\n",
    "B = np.zeros((8 * 8, len(vocabulary))) # (Num bins x num topics, num terms)\n",
    "\n",
    "i = 0\n",
    "for W, H in window_topic_models:\n",
    "    for row in H:\n",
    "        # 0 out any items besides the top t\n",
    "        threshold = np.partition(row, -num_terms)[-num_terms]\n",
    "    \n",
    "        # Set all elements smaller than the threshold to 0\n",
    "        row[row < threshold] = 0\n",
    "        \n",
    "        # Add to B matrix\n",
    "        B[i] = row\n",
    "        i += 1\n",
    "\n",
    "# Delete all columns with only 0\n",
    "idx = np.argwhere(np.all(B[..., :] == 0, axis=0))\n",
    "B = np.delete(B, idx, axis=1)\n",
    "\n",
    "flattened_idx = idx.flatten()\n",
    "reduced_vocab = [v for (i, v) in enumerate(vocabulary) if i not in idx]\n",
    "\n",
    "print(f\"B matrix: {B.shape}\")"
   ]
  },
  {
   "cell_type": "code",
   "execution_count": 91,
   "id": "c1d1dc66-fbb2-48bc-b9cb-eba157ea3534",
   "metadata": {
    "tags": []
   },
   "outputs": [
    {
     "name": "stdout",
     "output_type": "stream",
     "text": [
      "U (windowtopics-dynamictopics): (64, 8)\n",
      "V (dynamictopics-terms): (8, 171)\n"
     ]
    }
   ],
   "source": [
    "# Run NMF to get dynamic topic model\n",
    "\n",
    "dynamic_model = decomposition.NMF(n_components=8, init='nndsvd', random_state=0)\n",
    "U = dynamic_model.fit_transform(B)\n",
    "V = dynamic_model.components_\n",
    "\n",
    "print(f\"U (windowtopics-dynamictopics): {U.shape}\")\n",
    "print(f\"V (dynamictopics-terms): {V.shape}\")"
   ]
  },
  {
   "cell_type": "code",
   "execution_count": 102,
   "id": "fcb7cc68-5f27-4562-94c6-46e427d48b57",
   "metadata": {
    "tags": []
   },
   "outputs": [
    {
     "data": {
      "text/plain": [
       "[['caesar',\n",
       "  'bellum',\n",
       "  'quiris',\n",
       "  'consul',\n",
       "  'romanus',\n",
       "  'omnis',\n",
       "  'antonius',\n",
       "  'senatus',\n",
       "  'res',\n",
       "  'publicus'],\n",
       " ['res',\n",
       "  'malus',\n",
       "  'causa',\n",
       "  '-ne',\n",
       "  'iudex',\n",
       "  'scio',\n",
       "  'do',\n",
       "  'homo',\n",
       "  'dico',\n",
       "  'facio'],\n",
       " ['py.', 'gn.', 'ge.', 'facio', 'ph.', 'do', 'sy', 'th', 'pa', 'ch.'],\n",
       " ['facio',\n",
       "  'aulus',\n",
       "  'attico',\n",
       "  'sal',\n",
       "  'cicero',\n",
       "  'res',\n",
       "  'video',\n",
       "  'littera',\n",
       "  'scribo',\n",
       "  'scr.'],\n",
       " ['ignis',\n",
       "  'terra',\n",
       "  'magnus',\n",
       "  'dico',\n",
       "  'natura',\n",
       "  'multus',\n",
       "  'corpus',\n",
       "  'video',\n",
       "  'omnis',\n",
       "  'res'],\n",
       " ['res',\n",
       "  'locus',\n",
       "  'hostis',\n",
       "  'miles',\n",
       "  'oppidum',\n",
       "  'magnus',\n",
       "  'omnis',\n",
       "  'legio',\n",
       "  'castrum',\n",
       "  'caesar'],\n",
       " ['casus',\n",
       "  'declinatio',\n",
       "  'habeo',\n",
       "  'genus',\n",
       "  'similis',\n",
       "  'declino',\n",
       "  'verbum',\n",
       "  'alius',\n",
       "  'analogia',\n",
       "  'dico'],\n",
       " ['consul',\n",
       "  '-ne',\n",
       "  'urbs',\n",
       "  'thos',\n",
       "  'titus',\n",
       "  'condio',\n",
       "  'livi',\n",
       "  'aduersus',\n",
       "  'livy',\n",
       "  'periocha']]"
      ]
     },
     "execution_count": 102,
     "metadata": {},
     "output_type": "execute_result"
    }
   ],
   "source": [
    "dynamic_topic_terms = []\n",
    "\n",
    "# Determine terms for all dynamic topics\n",
    "for v in V:\n",
    "    sorted_indices = np.argsort(v)\n",
    "    \n",
    "    # Return the indices of the top n values\n",
    "    top_indices = sorted_indices[-10:]\n",
    "\n",
    "    top_terms = [reduced_vocab[i] for i in top_indices]\n",
    "    dynamic_topic_terms.append(top_terms)\n",
    "    \n",
    "dynamic_topic_terms"
   ]
  },
  {
   "cell_type": "code",
   "execution_count": 103,
   "id": "ea951f35-2f1d-4ad1-9ae3-c0129d195b92",
   "metadata": {
    "tags": []
   },
   "outputs": [
    {
     "data": {
      "text/plain": [
       "array([1, 2, 0, 2, 1, 1, 2, 0, 1, 3, 0, 5, 4, 1, 1, 4, 0, 1, 7, 3, 5, 4,\n",
       "       2, 1, 0, 4, 1, 3, 4, 6, 1, 2, 4, 1, 0, 6, 2, 1, 1, 1, 4, 4, 1, 6,\n",
       "       2, 1, 0, 0, 4, 3, 0, 1, 4, 6, 4, 5, 4, 4, 3, 1, 4, 6, 0, 0])"
      ]
     },
     "execution_count": 103,
     "metadata": {},
     "output_type": "execute_result"
    }
   ],
   "source": [
    "# Assign each window topic to the highest weighted dynamic topic\n",
    "windowtopic_to_dynamic_topics = np.argmax(U, axis=1)\n",
    "windowtopic_to_dynamic_topics"
   ]
  },
  {
   "cell_type": "code",
   "execution_count": 109,
   "id": "6870aaa1-095f-45e0-84f7-dff969dc0dad",
   "metadata": {
    "tags": []
   },
   "outputs": [
    {
     "data": {
      "text/plain": [
       "(235, 8)"
      ]
     },
     "execution_count": 109,
     "metadata": {},
     "output_type": "execute_result"
    }
   ],
   "source": [
    "# Determine which dynamic topic each document corresponds to\n",
    "# For each timestep, create a new matrix document x dynamic topics\n",
    "\n",
    "windows_dynamic_topic_model = []\n",
    "\n",
    "for timestep in range(len(window_topic_models)):\n",
    "    W, H = window_topic_models[timestep]\n",
    "    \n",
    "    document_dynamictopics = np.zeros((len(W), 8))\n",
    "    for document_index in range(len(W)):\n",
    "        for topic_index in range(W.shape[1]):\n",
    "            # Corresponding topic index (going from 64 window topics to 8 dynamic topics)\n",
    "            dynamic_topic_index = windowtopic_to_dynamic_topics[(timestep + 1) * topic_index]\n",
    "            document_dynamictopics[document_index, dynamic_topic_index] += W[document_index, topic_index]\n",
    "    windows_dynamic_topic_model.append(document_dynamictopics)\n",
    "    \n",
    "windows_dynamic_topic_model[1].shape"
   ]
  },
  {
   "cell_type": "code",
   "execution_count": 135,
   "id": "95231718-cb25-4d29-a190-4230ba813190",
   "metadata": {
    "tags": []
   },
   "outputs": [
    {
     "name": "stderr",
     "output_type": "stream",
     "text": [
      "/Users/milesper/miniforge3/lib/python3.10/site-packages/pandas/core/internals/blocks.py:329: RuntimeWarning: divide by zero encountered in log\n",
      "  result = func(self.values, **kwargs)\n",
      "/Users/milesper/miniforge3/lib/python3.10/site-packages/pandas/core/internals/blocks.py:329: RuntimeWarning: divide by zero encountered in log\n",
      "  result = func(self.values, **kwargs)\n",
      "/Users/milesper/miniforge3/lib/python3.10/site-packages/pandas/core/internals/blocks.py:329: RuntimeWarning: divide by zero encountered in log\n",
      "  result = func(self.values, **kwargs)\n"
     ]
    },
    {
     "data": {
      "text/html": [
       "\n",
       "<link rel=\"stylesheet\" type=\"text/css\" href=\"https://cdn.jsdelivr.net/gh/bmabey/pyLDAvis@3.4.0/pyLDAvis/js/ldavis.v1.0.0.css\">\n",
       "\n",
       "\n",
       "<div id=\"ldavis_el7885127190663525506295816\" style=\"background-color:white;\"></div>\n",
       "<script type=\"text/javascript\">\n",
       "\n",
       "var ldavis_el7885127190663525506295816_data = {\"mdsDat\": {\"x\": [-0.13781332529766013, 0.1957139171322124, 0.22912376273878007, -0.3582577630785555, -0.1580135363369603, 0.0873488693835561, -0.0992316258427446, 0.2411297013013709], \"y\": [0.1523410993433158, 0.13887429552805564, -0.09820420410061716, 0.00948269708989638, -0.3970372855993985, -0.025901125163923573, 0.2759343624157567, -0.05548983951308539], \"topics\": [1, 2, 3, 4, 5, 6, 7, 8], \"cluster\": [1, 1, 1, 1, 1, 1, 1, 1], \"Freq\": [34.140237481556426, 27.44116693576457, 17.501986635504732, 13.145824533116793, 2.491499455696518, 2.2910519130731886, 1.7262554559577055, 1.261977589330061]}, \"tinfo\": {\"Term\": [\"dico\", \"facio\", \"ch.\", \"publicus\", \"res\", \"omnis\", \"pa\", \"video\", \"do\", \"senatus\", \"antonius\", \"consul\", \"caesar\", \"-ne\", \"corpus\", \"th\", \"sy\", \"magnus\", \"romanus\", \"natura\", \"ph.\", \"multus\", \"habeo\", \"alius\", \"quiris\", \"scio\", \"homo\", \"ge.\", \"ago\", \"malus\", \"pal\", \"phaed\", \"pal.\", \"phaed.\", \"cvrc\", \"cvrc.\", \"ther.\", \"pyrg\", \"pyrg.\", \"ago\", \"volo1\", \"uti\", \"columna\", \"altitudo\", \"crassitudo\", \"pater\", \"filius\", \"inquam\", \"uxor\", \"aqua\", \"malus\", \"oportet\", \"scio\", \"habeo\", \"hercules\", \"edepol\", \"facio\", \"-ne\", \"dives\", \"iudicium\", \"iudex\", \"causa\", \"homo\", \"dico\", \"do\", \"ager\", \"res\", \"locus\", \"char.\", \"video\", \"omnis\", \"th\", \"romanus\", \"publicus\", \"sol\", \"corpus\", \"caelum\", \"ignis\", \"semen\", \"terra\", \"ratio\", \"natura\", \"pars\", \"nihil\", \"bonus\", \"animus\", \"quidam\", \"orator\", \"verus\", \"multus\", \"seu\", \"puella\", \"carmen\", \"magnus\", \"alius\", \"video\", \"uolo\", \"omnis\", \"uenio\", \"uir\", \"res\", \"liber\", \"...\", \"punicus\", \"naevius1\", \"dico\", \"iudex\", \"causa\", \"homo\", \"iudicium\", \"civis\", \"romanus\", \"catilina\", \"publicus\", \"senatus\", \"bellum\", \"vester\", \"antonius\", \"quiris\", \"brutus\", \"populus\", \"consul\", \"publicus\", \"civis\", \"catilina\", \"scelus\", \"romanus\", \"liber\", \"...\", \"romulus\", \"naevius1\", \"seru.\", \"punicus\", \"aen.\", \"caesar\", \"urbs\", \"fest.\", \"cato\", \"neve\", \"b.c.\", \"velo\", \"utei\", \"char.\", \"res\", \"omnis\", \"video\", \"ager\", \"homo\", \"iudex\", \"causa\", \"ch.\", \"ge.\", \"de.\", \"pamphilis\", \"pa\", \"my\", \"ph.\", \"la\", \"gn.\", \"py.\", \"sy\", \"ap.\", \"tribunus\", \"philol\", \"tr\", \"ep\", \"ep.\", \"str\", \"cl\", \"de_-meo\", \"sa\", \"ae\", \"ly\", \"uerus\", \"uerbum\", \"uita\", \"uis\", \"uirtus\", \"uox\", \"uideo\", \"th\", \"do\", \"facio\", \"hercules\", \"-ne\", \"scio\", \"edepol\", \"malus\", \"thos\", \"periocha\", \"aduersus\", \"livi\", \"condio\", \"titus\", \"livy\", \"urbs\", \"consul\", \"os\", \"fero\", \"venio\", \"quoque\", \"unda\", \"amor\", \"deus\", \"-ne\", \"scelus\", \"catilina\", \"quiris\", \"ager\", \"verus\", \"vester\", \"carmen\", \"puella\", \"seu\", \"edepol\", \"uolo\", \"hercules\", \"uenio\", \"do\", \"malus\", \"scio\", \"video\", \"volo1\", \"ago\", \"cicero\", \"littera\", \"aulus\", \"scribo\", \"sal\", \"attico\", \"scr.\", \"a.u.c.\", \"video\", \"liber\", \"...\", \"romulus\", \"naevius1\", \"seru.\", \"aen.\", \"punicus\", \"res\", \"caesar\", \"facio\", \"os\", \"fero\", \"venio\", \"quoque\", \"unda\", \"amor\", \"deus\", \"genus\", \"cl\", \"de_-meo\", \"sa\", \"ae\", \"orator\", \"quidam\", \"ly\", \"tr\", \"catilina\", \"civis\", \"sy\", \"declino\", \"similis\", \"verbum\", \"casus\", \"declinatio\", \"similitudo\", \"analogia\", \"genus\", \"item\", \"alius\", \"habeo\", \"dico\", \"quidam\", \"orator\", \"oportet\", \"locus\", \"ager\", \"aqua\", \"magnus\", \"verus\", \"animus\", \"bonus\", \"nihil\", \"uxor\", \"filius\", \"pater\", \"inquam\", \"facio\", \"crassitudo\", \"altitudo\", \"multus\", \"uti\", \"natura\", \"hostis\", \"exercitus\", \"castrum\", \"miles\", \"legio\", \"oppidum\", \"pompeius\", \"caesar\", \"locus\", \"magnus\", \"a.u.c.\", \"brutus\", \"omnis\", \"antonius\", \"oportet\", \"quidam\", \"orator\", \"res\", \"aqua\", \"bellum\", \"alius\", \"ager\", \"facio\", \"romanus\", \"habeo\", \"senatus\", \"nihil\", \"bonus\", \"animus\", \"do\"], \"Freq\": [2270612.0, 2965941.0, 1033452.0, 1292009.0, 3161457.0, 2149744.0, 722188.0, 1561923.0, 1551715.0, 632948.0, 607927.0, 575662.0, 288586.0, 719327.0, 714820.0, 539214.0, 448789.0, 391051.0, 654862.0, 662962.0, 393143.0, 762343.0, 321628.0, 219397.0, 366473.0, 715073.0, 1490197.0, 233285.0, 458299.0, 569949.0, 111306.52990184646, 57795.199629084615, 91064.43414233928, 53739.39614634183, 34474.32960331362, 32446.427861942237, 33460.37873262794, 44282.15012748999, 44822.176348556946, 457668.5299331135, 349669.5896956158, 27756.1953465941, 19260.743902870818, 19849.460539624568, 23034.71306682202, 158265.73984278535, 112232.62017456473, 102516.87676203842, 75570.47194259522, 89450.8208503611, 548232.8819469382, 73305.85216665096, 672082.7343801875, 292867.50190510735, 503774.9478307516, 155185.38711577927, 2582317.7443257426, 626250.5389219539, 453.255246774031, 309272.42897605407, 660501.3393562367, 586221.1917869074, 1131379.5063382972, 1684160.7374392415, 1128928.4129479597, 83089.97999654764, 534612.8671626851, 48604.4241176198, 54798.06424138106, 202959.9910272036, 196032.61976466802, 83870.12291346538, 86418.05790029172, 72678.15639983544, 109798.35310583543, 714820.823603307, 46415.45217664373, 264922.95787387656, 186314.42258853777, 341251.8769505305, 244846.20211619622, 661636.2511337629, 63374.03867351033, 62415.44500611774, 211481.1089121283, 178012.98832765257, 43320.131025768365, 44703.93862015812, 76256.76377612978, 712994.580840143, 2670.724391116327, 3417.7510644345725, 2645.275561439499, 355577.63706378115, 165414.58447112038, 1101099.795563638, 3865.2104636280164, 1341472.1849596752, 2884.418010248137, 2979.6170383179383, 1517098.3878692419, 514.4876848629013, 2028.0735004396797, 730.106460158285, 1362.1712374944755, 463643.9358391693, 159530.4737218793, 141695.7077773625, 209514.47991633674, 75217.64444657312, 14909.673218615302, 22596.14765464262, 10658.21041654692, 21236.599513876652, 632416.6354643754, 233327.5096192277, 180607.14330536456, 603261.8503540513, 361774.43552663893, 116011.16695827937, 182073.9590238577, 540042.4417608675, 1197651.8698149687, 104763.2439195056, 86396.01910853981, 11073.765514191666, 545160.7803035417, 1622.9885222661212, 6397.704182953946, 1246.4432168138417, 4297.067449541954, 1279.5408365907892, 2303.173505863421, 1279.5408365907892, 209271.09996994035, 44914.29318904831, 16303.800315685503, 8631.116110797193, 17983.254370159964, 10939.579398220427, 9355.030117994087, 11836.390490270394, 31168.5289383099, 1036954.9012767553, 587067.8608165097, 193867.08237776282, 24624.91557480325, 149303.177540343, 21012.904515471888, 18179.971812010735, 1033452.1075381769, 233285.27088954358, 51440.142855209466, 43150.21087759074, 722188.1056010241, 47721.050734164586, 393143.40050313476, 54823.201596379, 172424.1688390184, 164164.73760230438, 448655.13205106463, 12531.382006905698, 25009.36184893898, 9936.940508656367, 38737.0927326993, 34466.376264086866, 31723.91514028728, 13155.918776212187, 28454.6031121851, 26013.678630551378, 19679.964570519776, 44221.165371661475, 22204.253043001336, 22362.55637412697, 1164.4232689713663, 1221.892238468882, 1172.326904058112, 1066.424619536194, 1111.0025267721214, 26751.28215109052, 455146.7213232346, 418857.4531317061, 332651.2949894667, 58992.98975386173, 54238.71099818552, 41789.1752503978, 19924.98261729925, 20624.31395589576, 39965.41615830982, 111019.87109454324, 58508.66705342071, 55221.03574607092, 45014.064001393206, 40959.234261121725, 72271.9837786503, 39505.784779437745, 35620.23547064607, 1649.329826719511, 1841.8982946394283, 1837.7226086520411, 1438.823242893379, 1570.9455074727798, 1732.3712334895365, 1565.9652075894642, 38838.308084452634, 683.070036469408, 4399.694652956466, 4699.388694995021, 998.7967049951349, 629.4475018423925, 1365.908350391086, 16.390734602014525, 21.17717014042015, 16.54842139247417, 566.8213402169988, 17.167894262691437, 1521.8146356613813, 12.375104053352242, 3929.541447955328, 1091.889000426674, 1201.1291344558754, 1636.9010389038267, 545.8459197993318, 630.6193167520174, 59485.478605419026, 64091.26019070195, 41575.10367025084, 88685.78201090003, 49830.4277328666, 42334.144243143186, 94819.97307931045, 15840.342625113399, 62100.3605078986, 43.21738740119383, 170.3598370288552, 33.19063482927164, 114.42350091091035, 34.07196740577104, 34.07196740577104, 61.32954133038787, 60653.6430403991, 5207.997741313495, 38396.37836859703, 279.39876166720734, 312.020127388817, 311.31276038733154, 243.73865421568684, 266.1203492012038, 293.4660912229917, 261.54580677270155, 167.26622807498205, 106.28359795086826, 97.16625988041402, 73.5085790462052, 165.17484158012564, 157.73358676977676, 152.85095356116886, 82.93729819099451, 97.31131527131718, 123.08946530897846, 111.0940106560156, 134.24106917189476, 42499.01634246327, 38133.1944226995, 43611.07233874357, 13519.416301872363, 24132.776906673196, 11592.53064572257, 99766.0377700876, 33531.401513200806, 12411.986220455847, 53616.40331816043, 28513.394427506606, 122807.86471926203, 2086.1791345904853, 2152.8195269749526, 3290.7012341999443, 2738.194916075342, 4077.0540268587724, 3124.436236047168, 11415.009733664136, 1958.6406349999666, 3760.1578719204554, 4371.552901979297, 713.118474005671, 620.7892353048497, 921.9580169798658, 1300.1065771640453, 842.1460379298748, 9415.843399611807, 68.01979649126135, 58.6139824034222, 2191.314343452735, 81.96198291553097, 1326.5382191737262, 18109.264081002522, 6725.849759665905, 38244.59149843537, 21526.599288508445, 31204.0833776631, 22419.33121014331, 9751.374184889019, 74107.79224411458, 15832.343590083907, 24059.30362907772, 993.4557877290107, 3090.3829008486982, 25172.26245249385, 4666.130841533717, 364.3305625569954, 181.9353294865384, 187.74702683531868, 12137.823385731843, 303.22588008016623, 477.98919676182675, 366.116094651383, 165.98572172522017, 3160.5369518826183, 687.8386700017858, 247.20931515652367, 471.1794041032092, 26.94618016384413, 48.789324513305075, 38.68417223771624, 0.0], \"Total\": [2270612.0, 2965941.0, 1033452.0, 1292009.0, 3161457.0, 2149744.0, 722188.0, 1561923.0, 1551715.0, 632948.0, 607927.0, 575662.0, 288586.0, 719327.0, 714820.0, 539214.0, 448789.0, 391051.0, 654862.0, 662962.0, 393143.0, 762343.0, 321628.0, 219397.0, 366473.0, 715073.0, 1490197.0, 233285.0, 458299.0, 569949.0, 111306.52990184646, 57795.199629084615, 91064.43414233928, 53739.39614634183, 34474.32960331362, 32446.427861942237, 33460.37873262794, 44282.15012748999, 44822.176348556946, 458299.1492498655, 350215.43561541516, 27840.885076092214, 19319.512302887382, 19910.025232400105, 23104.9966051217, 159565.8464199494, 113154.5781915446, 103359.0227999683, 76191.26117790007, 92878.48296648843, 569949.0849032606, 76960.8839634079, 715073.0387650412, 321628.10564777046, 564289.7522202748, 175677.19107329551, 2965941.798035301, 719327.5580045921, 545.0551696162347, 388458.31262150576, 841044.7175935879, 746096.8713762807, 1490197.163794977, 2270612.537997673, 1551715.4075276211, 112956.73202493002, 3161457.622734813, 67174.96262377905, 85966.59317969096, 1561923.8328484818, 2149744.9279933465, 539214.7454033872, 654862.8245284779, 1292009.2665563442, 109798.35310583543, 714820.823603307, 46415.45217664373, 264922.95787387656, 186314.42258853777, 341284.1710470327, 244928.55974180007, 662962.7893529366, 63651.98238325338, 63155.50966028726, 215901.4511386209, 181811.83037181073, 45741.09644340655, 47202.238760738175, 81524.1456168088, 762343.4297994892, 2923.662424424351, 3741.4382391389404, 2895.8033958704477, 391051.95042652305, 219397.1038839322, 1561923.8328484818, 6191.345499871436, 2149744.9279933465, 4746.443117524542, 5173.923234042426, 3161457.622734813, 2180.693594530216, 8596.13752042248, 3094.6095073520937, 5773.6621879473405, 2270612.537997673, 841044.7175935879, 746096.8713762807, 1490197.163794977, 388458.31262150576, 119784.01114877693, 654862.8245284779, 101577.01364335217, 1292009.2665563442, 632948.100671633, 233805.49881598953, 181973.05165575564, 607927.9811955851, 366473.82422163396, 119101.54985912806, 188080.7165171199, 575662.6772315135, 1292009.2665563442, 119784.01114877693, 101577.01364335217, 13150.483453086363, 654862.8245284779, 2180.693594530216, 8596.13752042248, 1674.7565996686044, 5773.6621879473405, 1719.2275040844963, 3094.6095073520937, 1719.2275040844963, 288586.8899553684, 89769.4423704844, 40823.4538525595, 23805.6678533707, 49600.0024751335, 30172.69032956608, 25802.310719543453, 32646.20438157301, 85966.59317969096, 3161457.622734813, 2149744.9279933465, 1561923.8328484818, 112956.73202493002, 1490197.163794977, 841044.7175935879, 746096.8713762807, 1033452.1075381769, 233285.27088954358, 51440.142855209466, 43150.21087759074, 722188.1056010241, 47721.050734164586, 393143.40050313476, 54823.201596379, 172424.1688390184, 164164.73760230438, 448789.3731202365, 12562.862047849245, 25072.18777943433, 9961.90306217949, 38834.40404797062, 34552.95912744314, 31803.608676639098, 13188.967713791211, 28560.88671013597, 26110.844890431792, 19753.47314956598, 44386.3402132416, 22287.19034119233, 22614.51131765155, 1306.1221240699592, 1370.5845017193815, 1314.9875537830683, 1196.1980032051074, 1246.2006031505873, 30999.5707592072, 539214.7454033872, 1551715.4075276211, 2965941.798035301, 564289.7522202748, 719327.5580045921, 715073.0387650412, 175677.19107329551, 569949.0849032606, 39965.41615830982, 111019.87109454324, 58508.66705342071, 55221.03574607092, 45014.064001393206, 40959.234261121725, 72271.9837786503, 89769.4423704844, 575662.6772315135, 27742.3023276398, 30981.371050740796, 30911.134557584188, 24201.50824518588, 26423.85076806653, 29139.087721928525, 27905.850358503903, 719327.5580045921, 13150.483453086363, 101577.01364335217, 366473.82422163396, 112956.73202493002, 81524.1456168088, 181973.05165575564, 2895.8033958704477, 3741.4382391389404, 2923.662424424351, 175677.19107329551, 6191.345499871436, 564289.7522202748, 4746.443117524542, 1551715.4075276211, 569949.0849032606, 715073.0387650412, 1561923.8328484818, 350215.43561541516, 458299.1492498655, 59485.478605419026, 64091.26019070195, 41575.10367025084, 88685.78201090003, 49830.4277328666, 42334.144243143186, 94819.97307931045, 16833.79841284241, 1561923.8328484818, 2180.693594530216, 8596.13752042248, 1674.7565996686044, 5773.6621879473405, 1719.2275040844963, 1719.2275040844963, 3094.6095073520937, 3161457.622734813, 288586.8899553684, 2965941.798035301, 27742.3023276398, 30981.371050740796, 30911.134557584188, 24201.50824518588, 26423.85076806653, 29139.087721928525, 27905.850358503903, 33698.667741275785, 28560.88671013597, 26110.844890431792, 19753.47314956598, 44386.3402132416, 47202.238760738175, 45741.09644340655, 22287.19034119233, 38834.40404797062, 101577.01364335217, 119784.01114877693, 448789.3731202365, 42499.01634246327, 38133.1944226995, 43611.07233874357, 13519.416301872363, 24132.776906673196, 11592.53064572257, 99766.0377700876, 33698.667741275785, 16595.927100069977, 219397.1038839322, 321628.10564777046, 2270612.537997673, 45741.09644340655, 47202.238760738175, 76960.8839634079, 67174.96262377905, 112956.73202493002, 92878.48296648843, 391051.95042652305, 81524.1456168088, 181811.83037181073, 215901.4511386209, 63155.50966028726, 76191.26117790007, 113154.5781915446, 159565.8464199494, 103359.0227999683, 2965941.798035301, 23104.9966051217, 19910.025232400105, 762343.4297994892, 27840.885076092214, 662962.7893529366, 18109.264081002522, 6725.849759665905, 38244.59149843537, 21526.599288508445, 31204.0833776631, 22458.78618453207, 24914.983762741103, 288586.8899553684, 67174.96262377905, 391051.95042652305, 16833.79841284241, 119101.54985912806, 2149744.9279933465, 607927.9811955851, 76960.8839634079, 45741.09644340655, 47202.238760738175, 3161457.622734813, 92878.48296648843, 233805.49881598953, 219397.1038839322, 112956.73202493002, 2965941.798035301, 654862.8245284779, 321628.10564777046, 632948.100671633, 63155.50966028726, 215901.4511386209, 181811.83037181073, 1551715.4075276211], \"Category\": [\"Default\", \"Default\", \"Default\", \"Default\", \"Default\", \"Default\", \"Default\", \"Default\", \"Default\", \"Default\", \"Default\", \"Default\", \"Default\", \"Default\", \"Default\", \"Default\", \"Default\", \"Default\", \"Default\", \"Default\", \"Default\", \"Default\", \"Default\", \"Default\", \"Default\", \"Default\", \"Default\", \"Default\", \"Default\", \"Default\", \"Topic1\", \"Topic1\", \"Topic1\", \"Topic1\", \"Topic1\", \"Topic1\", \"Topic1\", \"Topic1\", \"Topic1\", \"Topic1\", \"Topic1\", \"Topic1\", \"Topic1\", \"Topic1\", \"Topic1\", \"Topic1\", \"Topic1\", \"Topic1\", \"Topic1\", \"Topic1\", \"Topic1\", \"Topic1\", \"Topic1\", \"Topic1\", \"Topic1\", \"Topic1\", \"Topic1\", \"Topic1\", \"Topic1\", \"Topic1\", \"Topic1\", \"Topic1\", \"Topic1\", \"Topic1\", \"Topic1\", \"Topic1\", \"Topic1\", \"Topic1\", \"Topic1\", \"Topic1\", \"Topic1\", \"Topic1\", \"Topic1\", \"Topic1\", \"Topic2\", \"Topic2\", \"Topic2\", \"Topic2\", \"Topic2\", \"Topic2\", \"Topic2\", \"Topic2\", \"Topic2\", \"Topic2\", \"Topic2\", \"Topic2\", \"Topic2\", \"Topic2\", \"Topic2\", \"Topic2\", \"Topic2\", \"Topic2\", \"Topic2\", \"Topic2\", \"Topic2\", \"Topic2\", \"Topic2\", \"Topic2\", \"Topic2\", \"Topic2\", \"Topic2\", \"Topic2\", \"Topic2\", \"Topic2\", \"Topic2\", \"Topic2\", \"Topic2\", \"Topic2\", \"Topic2\", \"Topic2\", \"Topic2\", \"Topic2\", \"Topic2\", \"Topic2\", \"Topic3\", \"Topic3\", \"Topic3\", \"Topic3\", \"Topic3\", \"Topic3\", \"Topic3\", \"Topic3\", \"Topic3\", \"Topic3\", \"Topic3\", \"Topic3\", \"Topic3\", \"Topic3\", \"Topic3\", \"Topic3\", \"Topic3\", \"Topic3\", \"Topic3\", \"Topic3\", \"Topic3\", \"Topic3\", \"Topic3\", \"Topic3\", \"Topic3\", \"Topic3\", \"Topic3\", \"Topic3\", \"Topic3\", \"Topic3\", \"Topic3\", \"Topic3\", \"Topic3\", \"Topic3\", \"Topic3\", \"Topic3\", \"Topic4\", \"Topic4\", \"Topic4\", \"Topic4\", \"Topic4\", \"Topic4\", \"Topic4\", \"Topic4\", \"Topic4\", \"Topic4\", \"Topic4\", \"Topic4\", \"Topic4\", \"Topic4\", \"Topic4\", \"Topic4\", \"Topic4\", \"Topic4\", \"Topic4\", \"Topic4\", \"Topic4\", \"Topic4\", \"Topic4\", \"Topic4\", \"Topic4\", \"Topic4\", \"Topic4\", \"Topic4\", \"Topic4\", \"Topic4\", \"Topic4\", \"Topic4\", \"Topic4\", \"Topic4\", \"Topic4\", \"Topic4\", \"Topic4\", \"Topic4\", \"Topic5\", \"Topic5\", \"Topic5\", \"Topic5\", \"Topic5\", \"Topic5\", \"Topic5\", \"Topic5\", \"Topic5\", \"Topic5\", \"Topic5\", \"Topic5\", \"Topic5\", \"Topic5\", \"Topic5\", \"Topic5\", \"Topic5\", \"Topic5\", \"Topic5\", \"Topic5\", \"Topic5\", \"Topic5\", \"Topic5\", \"Topic5\", \"Topic5\", \"Topic5\", \"Topic5\", \"Topic5\", \"Topic5\", \"Topic5\", \"Topic5\", \"Topic5\", \"Topic5\", \"Topic5\", \"Topic5\", \"Topic5\", \"Topic6\", \"Topic6\", \"Topic6\", \"Topic6\", \"Topic6\", \"Topic6\", \"Topic6\", \"Topic6\", \"Topic6\", \"Topic6\", \"Topic6\", \"Topic6\", \"Topic6\", \"Topic6\", \"Topic6\", \"Topic6\", \"Topic6\", \"Topic6\", \"Topic6\", \"Topic6\", \"Topic6\", \"Topic6\", \"Topic6\", \"Topic6\", \"Topic6\", \"Topic6\", \"Topic6\", \"Topic6\", \"Topic6\", \"Topic6\", \"Topic6\", \"Topic6\", \"Topic6\", \"Topic6\", \"Topic6\", \"Topic6\", \"Topic6\", \"Topic6\", \"Topic7\", \"Topic7\", \"Topic7\", \"Topic7\", \"Topic7\", \"Topic7\", \"Topic7\", \"Topic7\", \"Topic7\", \"Topic7\", \"Topic7\", \"Topic7\", \"Topic7\", \"Topic7\", \"Topic7\", \"Topic7\", \"Topic7\", \"Topic7\", \"Topic7\", \"Topic7\", \"Topic7\", \"Topic7\", \"Topic7\", \"Topic7\", \"Topic7\", \"Topic7\", \"Topic7\", \"Topic7\", \"Topic7\", \"Topic7\", \"Topic7\", \"Topic7\", \"Topic7\", \"Topic8\", \"Topic8\", \"Topic8\", \"Topic8\", \"Topic8\", \"Topic8\", \"Topic8\", \"Topic8\", \"Topic8\", \"Topic8\", \"Topic8\", \"Topic8\", \"Topic8\", \"Topic8\", \"Topic8\", \"Topic8\", \"Topic8\", \"Topic8\", \"Topic8\", \"Topic8\", \"Topic8\", \"Topic8\", \"Topic8\", \"Topic8\", \"Topic8\", \"Topic8\", \"Topic8\", \"Topic8\", \"Topic8\", \"Topic8\"], \"logprob\": [30.0, 29.0, 28.0, 27.0, 26.0, 25.0, 24.0, 23.0, 22.0, 21.0, 20.0, 19.0, 18.0, 17.0, 16.0, 15.0, 14.0, 13.0, 12.0, 11.0, 10.0, 9.0, 8.0, 7.0, 6.0, 5.0, 4.0, 3.0, 2.0, 1.0, -2.939, -3.5944, -3.1397, -3.6671, -4.1111, -4.1717, -4.1409, -3.8607, -3.8486, -1.5251, -1.7943, -4.3278, -4.6932, -4.6631, -4.5143, -2.587, -2.9307, -3.0213, -3.3262, -3.1576, -1.3446, -3.3566, -1.1409, -1.9716, -1.4292, -2.6067, 0.2052, -1.2115, -8.4426, -1.9171, -1.1583, -1.2776, -0.6201, -0.2223, -0.6223, -3.2314, -1.3697, -3.7676, -3.6476, -2.3383, -2.373, -3.222, -3.1921, -3.3652, -2.7342, -0.8608, -3.5952, -1.8534, -2.2054, -1.6002, -1.9322, -0.9381, -3.2838, -3.299, -2.0787, -2.251, -3.6642, -3.6328, -3.0987, -0.8634, -6.4505, -6.2039, -6.4601, -1.5591, -2.3244, -0.4288, -6.0808, -0.2313, -6.3735, -6.3411, -0.1083, -8.0974, -6.7258, -7.7474, -7.1238, -1.2937, -2.3606, -2.4792, -2.0881, -3.1125, -4.7308, -4.3151, -5.0665, -4.3771, -0.5336, -1.5307, -1.7868, -0.5808, -1.0921, -2.2294, -1.7787, -0.6915, 0.105, -2.3314, -2.5242, -4.5785, -0.682, -6.4988, -5.1272, -6.7628, -5.5252, -6.7366, -6.1488, -6.7366, -1.6395, -3.1784, -4.1917, -4.8277, -4.0937, -4.5907, -4.7472, -4.5119, -3.5437, -0.0391, -0.608, -1.7159, -3.7794, -1.9771, -3.938, -4.0828, 0.2438, -1.2446, -2.7565, -2.9322, -0.1146, -2.8315, -0.7227, -2.6928, -1.547, -1.596, -0.5907, -4.1687, -3.4777, -4.4006, -3.0401, -3.1569, -3.2398, -4.12, -3.3486, -3.4383, -3.7173, -2.9077, -3.5966, -3.5895, -6.5447, -6.4965, -6.5379, -6.6326, -6.5916, -3.4103, -0.5763, -0.6594, -0.8898, -2.6195, -2.7035, -2.9643, -3.7049, -3.6704, -1.3457, -0.324, -0.9645, -1.0223, -1.2267, -1.3211, -0.7533, -1.3572, -1.4608, -4.5333, -4.4229, -4.4252, -4.6699, -4.582, -4.4842, -4.5852, -1.3743, -5.4148, -3.5522, -3.4863, -5.0349, -5.4966, -4.7219, -9.1447, -8.8885, -9.1352, -5.6014, -9.0984, -4.6138, -9.4258, -3.6652, -4.9458, -4.8504, -4.5409, -5.6391, -5.4947, -0.8641, -0.7895, -1.2223, -0.4647, -1.0412, -1.2042, -0.3978, -2.1873, -0.8211, -8.0913, -6.7197, -8.3553, -7.1177, -8.3291, -8.3291, -7.7413, -0.8446, -3.2996, -1.3019, -6.2249, -6.1145, -6.1168, -6.3615, -6.2736, -6.1758, -6.291, -6.738, -7.1915, -7.2811, -7.5602, -6.7506, -6.7967, -6.8281, -7.4395, -7.2797, -7.0447, -7.1472, -6.9579, -0.9173, -1.0257, -0.8914, -2.0626, -1.4832, -2.2164, -0.0639, -1.1543, -2.1481, -0.6849, -1.3164, 0.1439, -3.9314, -3.9, -3.4757, -3.6595, -3.2614, -3.5275, -2.2318, -3.9945, -3.3423, -3.1916, -5.0049, -5.1435, -4.748, -4.4043, -4.8386, -2.4244, -7.3547, -7.5035, -3.8823, -7.1683, -4.3842, -1.4571, -2.4475, -0.7095, -1.2842, -0.9129, -1.2436, -2.0761, -0.048, -1.5914, -1.173, -4.36, -3.2252, -1.1277, -2.8132, -5.3632, -6.0576, -6.0261, -1.8572, -5.5468, -5.0917, -5.3583, -6.1493, -3.2027, -4.7277, -5.751, -5.106, -7.9674, -7.3737, -7.6058, -Infinity], \"loglift\": [30.0, 29.0, 28.0, 27.0, 26.0, 25.0, 24.0, 23.0, 22.0, 21.0, 20.0, 19.0, 18.0, 17.0, 16.0, 15.0, 14.0, 13.0, 12.0, 11.0, 10.0, 9.0, 8.0, 7.0, 6.0, 5.0, 4.0, 3.0, 2.0, 1.0, 2.9141, 2.9141, 2.9141, 2.9141, 2.9141, 2.9141, 2.9141, 2.9141, 2.9141, 2.9127, 2.9125, 2.911, 2.911, 2.911, 2.911, 2.9059, 2.9059, 2.9059, 2.9059, 2.8765, 2.8752, 2.8654, 2.8521, 2.8204, 2.8007, 2.7901, 2.7756, 2.7755, 2.7297, 2.6861, 2.6724, 2.6729, 2.6386, 2.6153, 2.596, 2.607, 1.1368, 2.5905, 2.4638, 0.8734, 0.5193, 1.0533, 0.8889, 0.0362, 3.1325, 3.1325, 3.1325, 3.1325, 3.1325, 3.1324, 3.1322, 3.1305, 3.1282, 3.1207, 3.1118, 3.1114, 3.0781, 3.0781, 3.0657, 3.0656, 3.042, 3.042, 3.042, 3.0374, 2.8501, 2.7829, 2.6614, 2.6609, 2.6345, 2.5807, 2.3983, 1.6883, 1.6883, 1.6883, 1.6883, 1.5438, 1.4701, 1.4714, 1.1707, 1.4907, 1.0488, -0.2341, 0.878, -0.9757, 3.5814, 3.5802, 3.5747, 3.5746, 3.5694, 3.556, 3.5498, 3.5184, 3.5064, 3.4483, 3.4204, 3.4104, 3.3989, 3.2869, 3.2869, 3.2869, 3.2869, 3.2869, 3.2869, 3.2869, 3.2609, 2.8898, 2.6644, 2.5677, 2.5677, 2.5677, 2.5677, 2.5677, 2.5677, 2.4675, 2.2843, 1.4958, 2.059, 1.2816, -0.1073, -0.1323, 3.8685, 3.8685, 3.8685, 3.8685, 3.8685, 3.8685, 3.8685, 3.8685, 3.8685, 3.8685, 3.8682, 3.866, 3.866, 3.866, 3.866, 3.866, 3.866, 3.866, 3.8647, 3.8647, 3.8647, 3.8647, 3.8647, 3.8573, 3.7536, 3.7536, 3.7536, 3.7536, 3.7536, 3.7211, 3.699, 2.5589, 1.6806, 1.6103, 1.2835, 1.0287, 1.6918, 0.5494, 5.5317, 5.5317, 5.5317, 5.5317, 5.5317, 5.5317, 5.5317, 4.7109, 2.7491, 2.7091, 2.7091, 2.7091, 2.7091, 2.7091, 2.7091, 2.6514, 2.6128, 2.5741, 2.3924, 1.1752, 0.8035, 0.6679, 0.6396, 0.3574, 0.3574, 0.3574, -0.2047, -0.3562, -0.384, -0.4178, -0.4469, -0.726, -0.8574, -1.3292, -0.9323, -1.0569, 5.6156, 5.6156, 5.6156, 5.6156, 5.6156, 5.6156, 5.6156, 5.5547, 2.3906, 1.6944, 1.6944, 1.6944, 1.6944, 1.6944, 1.6944, 1.6944, 1.662, 1.6008, 1.2686, 1.0175, 1.0175, 1.0175, 1.0175, 1.0175, 1.0175, 0.9456, 0.3099, 0.0219, 0.0219, 0.0219, 0.0219, -0.0857, -0.0857, 0.0219, -0.3736, -1.1001, -1.3675, -2.4991, 5.8986, 5.8986, 5.8986, 5.8986, 5.8986, 5.8986, 5.8986, 5.8936, 5.6081, 4.4896, 3.4756, 2.9814, 2.811, 2.811, 2.7464, 2.6986, 2.577, 2.5066, 2.3647, 2.17, 2.0201, 1.9989, 1.4149, 1.0886, 1.0886, 1.0886, 1.0886, 0.1461, 0.0706, 0.0706, 0.0467, 0.0706, -0.3155, 6.2119, 6.2119, 6.2119, 6.2119, 6.2119, 6.2101, 5.2738, 4.8524, 4.7666, 3.4236, 3.3819, 2.5602, 1.7645, 1.3422, 0.8589, 0.6848, 0.6848, 0.6494, 0.4873, 0.0192, -0.1838, -0.311, -0.6323, -0.6467, -0.959, -0.991, -1.5476, -2.1832, -2.2434, -Infinity]}, \"token.table\": {\"Topic\": [1, 4, 5, 2, 3, 6, 6, 8, 5, 4, 6, 2, 3, 6, 1, 3, 5, 7, 8, 1, 5, 2, 7, 8, 1, 6, 7, 1, 2, 4, 5, 6, 7, 2, 7, 8, 3, 8, 4, 6, 1, 7, 8, 6, 6, 1, 3, 3, 8, 2, 7, 8, 3, 8, 2, 3, 6, 8, 2, 4, 5, 8, 7, 2, 3, 5, 6, 1, 3, 1, 2, 3, 4, 1, 3, 6, 2, 3, 6, 4, 6, 1, 6, 7, 5, 3, 5, 2, 1, 6, 7, 1, 1, 4, 4, 6, 7, 7, 1, 2, 4, 5, 6, 1, 2, 7, 1, 4, 1, 4, 5, 1, 4, 5, 4, 6, 4, 6, 8, 1, 4, 6, 7, 8, 1, 2, 4, 5, 6, 1, 3, 1, 7, 4, 6, 7, 4, 1, 7, 8, 1, 4, 5, 1, 2, 3, 8, 2, 1, 7, 1, 6, 7, 1, 2, 3, 1, 2, 3, 4, 8, 2, 3, 6, 6, 5, 5, 1, 7, 8, 4, 6, 2, 7, 8, 1, 4, 5, 8, 1, 2, 7, 4, 2, 3, 6, 2, 7, 1, 3, 2, 7, 8, 1, 2, 3, 8, 1, 7, 8, 4, 8, 2, 6, 7, 8, 1, 2, 4, 5, 6, 4, 1, 1, 4, 2, 4, 1, 7, 5, 4, 1, 1, 4, 6, 1, 8, 2, 3, 1, 2, 3, 5, 6, 2, 4, 5, 2, 3, 6, 4, 1, 1, 2, 6, 7, 8, 3, 5, 1, 2, 4, 5, 6, 2, 4, 1, 2, 3, 6, 8, 1, 2, 3, 8, 2, 3, 6, 4, 6, 6, 2, 3, 5, 6, 1, 4, 5, 6, 6, 2, 3, 4, 8, 2, 3, 6, 2, 4, 5, 7, 7, 2, 4, 6, 4, 6, 2, 4, 1, 4, 5, 1, 5, 5, 4, 6, 4, 6, 2, 4, 5, 2, 4, 2, 4, 6, 2, 4, 6, 2, 4, 5, 2, 4, 2, 4, 2, 4, 1, 2, 4, 5, 6, 2, 4, 5, 2, 4, 2, 3, 5, 6, 1, 3, 1, 6, 7, 1, 7, 1, 3, 1, 2, 4, 5, 6, 7, 2, 3, 5, 7, 3, 5, 1, 2, 3, 5, 6, 7, 1, 5], \"Freq\": [0.870606155750816, 0.07540236627449458, 0.053992092431070275, 0.23591991114403768, 0.7442877670116139, 0.01977632391246864, 0.9409641015966873, 0.05898846924782263, 1.0000056905514356, 0.9962749753089065, 0.0037173598725937806, 0.23615257377830198, 0.7445204296458782, 0.01977632391246864, 0.7355913942487438, 0.21800382817878583, 0.008844094389872367, 0.036093466293803445, 0.0014695892579767898, 0.9986250263590999, 0.0013768299614625244, 0.753952522944467, 0.2443787955759184, 0.0016682079823333732, 0.9969349495197627, 0.00010045190684868384, 0.0029633312520361732, 0.6780926084082731, 0.08407950253556705, 0.16833059589263524, 0.05943906056800087, 0.010055222139967814, 0.9999996214133743, 0.9791057030555051, 0.020680722438747166, 0.0002145074933806222, 0.9923247796779995, 0.007675251253978447, 0.9974637906770059, 0.0024675905762498746, 0.9630971258679462, 0.03363534696326999, 0.0032623271862582607, 0.9999965927469241, 0.9999975064343395, 0.637430729243049, 0.3625795340258387, 0.9979577092138225, 0.002044434379946715, 0.9795256070984779, 0.020249979687227436, 0.00022695539905630017, 0.974051136506758, 0.025944246768029606, 0.9999902580579845, 0.7251576813914344, 0.018046557834991903, 0.2567961420959255, 0.9133907377040495, 0.08080659078364748, 0.005525236976659657, 1.0000106812897882, 0.9999692071119738, 0.10492531349091819, 0.8505467615276194, 0.043316886785516984, 0.0012109038805951339, 0.637453235652506, 0.3625607167655209, 0.7857170060486018, 0.18991635729368733, 0.024366809053178888, 0.9999998959427572, 0.6374336585080083, 0.3625710737989728, 0.9999919542478224, 0.12447404171063477, 0.8745991972992107, 0.0009266679161556311, 0.9962925972428444, 0.0037113693659371464, 0.9969713364411048, 0.00010352228196262965, 0.002950385035934945, 0.9999985781911803, 0.938122309052897, 0.06187651450899039, 1.0000002467705014, 0.9969704992249951, 8.656136307575386e-05, 0.002943086344575631, 0.9999904391668405, 0.9999868132805233, 0.9999972228846667, 0.9962910089337139, 0.0037149314932947743, 1.000009244411767, 0.9999996154625523, 0.5667270409905502, 0.197521305718616, 0.17025103836522945, 0.05611726501367066, 0.00938871228198066, 0.7417209989887434, 0.20419335850618614, 0.05408584597542017, 0.8311085285530831, 0.16879025303947826, 0.727535471081481, 0.2699315853719421, 0.0025326809161879413, 0.883353149329751, 0.11341825241096296, 0.0032275106206783436, 0.9974833088210361, 0.0025178740749559024, 0.9974968665522044, 0.0025154378175569394, 1.0000223377475654, 0.870657004028393, 0.11215695473874594, 0.012945635017327137, 0.0031747082853201456, 0.001065766024840376, 0.6780849035245545, 0.08408278625673385, 0.1683269598191428, 0.05945508341071161, 0.010070567874127048, 0.6006351174635528, 0.3993782608126331, 0.9918555819280721, 0.00814814579078954, 0.9999988388056282, 0.004955685526862838, 0.9950244994086096, 0.9999990207926212, 0.9105796255279165, 0.08865207828331359, 0.0007679677107276841, 0.8927594343470332, 0.10454380886394626, 0.002697195889188992, 0.7592149733521145, 0.14059481865234927, 0.10019009808056599, 0.9999854173531657, 1.0000001590127325, 0.9918534175618332, 0.008146361848152634, 0.25114595737061446, 0.00096409196687376, 0.7478943433023193, 0.7853339854387733, 0.1896807585409371, 0.02498440280336433, 0.7961523539369824, 0.1936321029981115, 0.010214738289990513, 0.9999963227908416, 0.9999973279887093, 0.2357048240473831, 0.7442586175659587, 0.0197184969533803, 0.9999959403091595, 0.9999993526729364, 1.000000224448657, 0.7235433873214367, 0.04075923369447152, 0.2356830488863671, 0.9962673473004547, 0.0037241123142648957, 0.9092858368617485, 0.029190494990626134, 0.061523794917168126, 0.9618982020000145, 0.0361856884172392, 0.001915960616351106, 1.000018614714112, 0.061859259431675626, 0.9352674557548574, 0.002874032770999646, 0.9999989368598594, 0.23589880316226466, 0.7442416719443842, 0.019744833744859157, 0.9979986970999812, 0.002001620635895984, 0.6374394843196004, 0.362560465778517, 0.9882748209258313, 0.011289593003606789, 0.00042751614459661053, 0.09118895802349195, 0.6240144970371815, 0.27308728228887674, 0.011709296145890434, 0.9525098494821647, 0.04276198284786789, 0.004729675404625923, 0.0017365141499436991, 0.9982284801945587, 0.9470737230621324, 0.003347298860142648, 0.0456122433283995, 0.003982861934853277, 0.6780619639220967, 0.08405935356261388, 0.1683349833350801, 0.05943991167442122, 0.010056843758134336, 0.99999985377629, 1.000004223455299, 0.9999952325807175, 0.9999951129418269, 0.9956327772860297, 0.004367499480631114, 0.9918538556394554, 0.00814710684753069, 1.000001161102562, 0.9999989812797716, 0.9999965459227428, 0.9999926283812205, 0.9975001701959905, 0.0025095606576330644, 0.608629736402914, 0.3913709153036675, 0.03193841511898546, 0.9680630921215512, 0.05625191852819465, 0.016437188609803102, 0.9269685837410135, 0.0003196571500611518, 2.3219647704199888e-05, 0.9135524313202676, 0.08098489955823321, 0.005612814820867648, 0.23589405974023048, 0.7441972870982887, 0.019711695402950764, 1.0000015983803796, 0.999996609751569, 0.9999960655958431, 0.9470695581947391, 0.0033449132595520566, 0.04560450365637641, 0.003978916426395257, 0.9871755527652867, 0.012822198174672813, 0.6780569142117102, 0.08408566852046498, 0.16833661599625274, 0.05945910417737057, 0.010082016274689659, 0.9996629231728341, 0.0003347915003723663, 0.16910332631235273, 0.479872951353255, 0.3279990193583503, 0.01918545406518256, 0.003839368243531933, 0.13196351474405915, 0.034504936230377474, 0.8324812152721195, 0.0010506017050141486, 0.23585516849323737, 0.7439887087153767, 0.01970435584880211, 0.9962804946244305, 0.0037461766566162526, 0.9999914162312856, 0.10471097925124752, 0.8420983182485948, 0.05193725405127237, 0.001216685307204038, 0.9398802130209152, 0.0584401840575212, 0.001679548710260666, 1.0000002839137017, 1.0000024579937734, 0.9999977318527901, 0.9991609096052749, 9.47945020078785e-05, 0.0007441368407618463, 0.23615257377830198, 0.7445204296458782, 0.01977632391246864, 0.9135801649624107, 0.08072067350472817, 0.005814624786357537, 0.9999949014840629, 1.0000404876460347, 0.9999967840516234, 0.9975003567749477, 0.002502091195923782, 0.9997005875622628, 0.0002985810449751885, 0.9999057353086901, 9.376350477031074e-05, 0.1555409986743904, 0.8440922728467003, 0.0003672006407240884, 0.999988681161353, 0.9999895870392499, 0.9999942806274104, 0.9974918104099062, 0.002497785208192707, 0.9974797660263951, 0.002512744422394454, 0.6076128858158781, 0.3897655474200328, 0.0025282089562380507, 0.10871877704476746, 0.8911877216909108, 0.007782613452390846, 0.9888783217944118, 0.0033606739908051382, 0.13442121609901186, 0.8629474326529076, 0.0026129394058123255, 0.5759652521306744, 0.42173026179501055, 0.0023193231629423127, 0.10867766009613494, 0.8911568127883065, 0.10874627641045378, 0.8912631884828799, 0.10871274249276956, 0.891590411584996, 0.6780616556332077, 0.08409069592102403, 0.16833277023254495, 0.0594538628676547, 0.01006666296804338, 0.6242584911600002, 0.37293993689222266, 0.0027457682664217345, 0.10832926870577593, 0.8915097594971634, 0.05917381081723808, 0.5003261556937936, 0.4400829386569668, 0.000412166980466455, 0.6374401065670624, 0.36255363293261655, 0.9969510640247171, 0.00010775519498753968, 0.002945308662992751, 0.991846031050077, 0.008150541025302339, 0.6374235307360493, 0.3625644269493367, 0.6780728142137173, 0.08407973493041275, 0.16832122387184978, 0.059460774452519675, 0.01006109948570926, 0.9999983412757427, 0.9353915876461167, 0.03286142994484371, 0.007715505574955839, 0.024029690653956264, 0.9924931101428147, 0.007506605992320812, 0.12994231583614527, 0.7049639533266632, 0.1241206491141406, 0.001048066471342973, 0.039758660886010155, 0.00016646138213144348, 0.9984425711720653, 0.0015590403633710288], \"Term\": [\"-ne\", \"-ne\", \"-ne\", \"...\", \"...\", \"...\", \"a.u.c.\", \"a.u.c.\", \"aduersus\", \"ae\", \"ae\", \"aen.\", \"aen.\", \"aen.\", \"ager\", \"ager\", \"ager\", \"ager\", \"ager\", \"ago\", \"ago\", \"alius\", \"alius\", \"alius\", \"altitudo\", \"altitudo\", \"altitudo\", \"amor\", \"amor\", \"amor\", \"amor\", \"amor\", \"analogia\", \"animus\", \"animus\", \"animus\", \"antonius\", \"antonius\", \"ap.\", \"ap.\", \"aqua\", \"aqua\", \"aqua\", \"attico\", \"aulus\", \"b.c.\", \"b.c.\", \"bellum\", \"bellum\", \"bonus\", \"bonus\", \"bonus\", \"brutus\", \"brutus\", \"caelum\", \"caesar\", \"caesar\", \"caesar\", \"carmen\", \"carmen\", \"carmen\", \"castrum\", \"casus\", \"catilina\", \"catilina\", \"catilina\", \"catilina\", \"cato\", \"cato\", \"causa\", \"causa\", \"causa\", \"ch.\", \"char.\", \"char.\", \"cicero\", \"civis\", \"civis\", \"civis\", \"cl\", \"cl\", \"columna\", \"columna\", \"columna\", \"condio\", \"consul\", \"consul\", \"corpus\", \"crassitudo\", \"crassitudo\", \"crassitudo\", \"cvrc\", \"cvrc.\", \"de.\", \"de_-meo\", \"de_-meo\", \"declinatio\", \"declino\", \"deus\", \"deus\", \"deus\", \"deus\", \"deus\", \"dico\", \"dico\", \"dico\", \"dives\", \"dives\", \"do\", \"do\", \"do\", \"edepol\", \"edepol\", \"edepol\", \"ep\", \"ep\", \"ep.\", \"ep.\", \"exercitus\", \"facio\", \"facio\", \"facio\", \"facio\", \"facio\", \"fero\", \"fero\", \"fero\", \"fero\", \"fero\", \"fest.\", \"fest.\", \"filius\", \"filius\", \"ge.\", \"genus\", \"genus\", \"gn.\", \"habeo\", \"habeo\", \"habeo\", \"hercules\", \"hercules\", \"hercules\", \"homo\", \"homo\", \"homo\", \"hostis\", \"ignis\", \"inquam\", \"inquam\", \"item\", \"item\", \"item\", \"iudex\", \"iudex\", \"iudex\", \"iudicium\", \"iudicium\", \"iudicium\", \"la\", \"legio\", \"liber\", \"liber\", \"liber\", \"littera\", \"livi\", \"livy\", \"locus\", \"locus\", \"locus\", \"ly\", \"ly\", \"magnus\", \"magnus\", \"magnus\", \"malus\", \"malus\", \"malus\", \"miles\", \"multus\", \"multus\", \"multus\", \"my\", \"naevius1\", \"naevius1\", \"naevius1\", \"natura\", \"natura\", \"neve\", \"neve\", \"nihil\", \"nihil\", \"nihil\", \"omnis\", \"omnis\", \"omnis\", \"omnis\", \"oportet\", \"oportet\", \"oportet\", \"oppidum\", \"oppidum\", \"orator\", \"orator\", \"orator\", \"orator\", \"os\", \"os\", \"os\", \"os\", \"os\", \"pa\", \"pal\", \"pal.\", \"pamphilis\", \"pars\", \"pars\", \"pater\", \"pater\", \"periocha\", \"ph.\", \"phaed\", \"phaed.\", \"philol\", \"philol\", \"pompeius\", \"pompeius\", \"populus\", \"populus\", \"publicus\", \"publicus\", \"publicus\", \"publicus\", \"publicus\", \"puella\", \"puella\", \"puella\", \"punicus\", \"punicus\", \"punicus\", \"py.\", \"pyrg\", \"pyrg.\", \"quidam\", \"quidam\", \"quidam\", \"quidam\", \"quiris\", \"quiris\", \"quoque\", \"quoque\", \"quoque\", \"quoque\", \"quoque\", \"ratio\", \"ratio\", \"res\", \"res\", \"res\", \"res\", \"res\", \"romanus\", \"romanus\", \"romanus\", \"romanus\", \"romulus\", \"romulus\", \"romulus\", \"sa\", \"sa\", \"sal\", \"scelus\", \"scelus\", \"scelus\", \"scelus\", \"scio\", \"scio\", \"scio\", \"scr.\", \"scribo\", \"semen\", \"senatus\", \"senatus\", \"senatus\", \"seru.\", \"seru.\", \"seru.\", \"seu\", \"seu\", \"seu\", \"similis\", \"similitudo\", \"sol\", \"str\", \"str\", \"sy\", \"sy\", \"terra\", \"terra\", \"th\", \"th\", \"th\", \"ther.\", \"thos\", \"titus\", \"tr\", \"tr\", \"tribunus\", \"tribunus\", \"uenio\", \"uenio\", \"uenio\", \"uerbum\", \"uerbum\", \"uerus\", \"uerus\", \"uerus\", \"uideo\", \"uideo\", \"uideo\", \"uir\", \"uir\", \"uir\", \"uirtus\", \"uirtus\", \"uis\", \"uis\", \"uita\", \"uita\", \"unda\", \"unda\", \"unda\", \"unda\", \"unda\", \"uolo\", \"uolo\", \"uolo\", \"uox\", \"uox\", \"urbs\", \"urbs\", \"urbs\", \"urbs\", \"utei\", \"utei\", \"uti\", \"uti\", \"uti\", \"uxor\", \"uxor\", \"velo\", \"velo\", \"venio\", \"venio\", \"venio\", \"venio\", \"venio\", \"verbum\", \"verus\", \"verus\", \"verus\", \"verus\", \"vester\", \"vester\", \"video\", \"video\", \"video\", \"video\", \"video\", \"video\", \"volo1\", \"volo1\"]}, \"R\": 30, \"lambda.step\": 0.01, \"plot.opts\": {\"xlab\": \"PC1\", \"ylab\": \"PC2\"}, \"topic.order\": [2, 5, 1, 3, 8, 4, 7, 6]};\n",
       "\n",
       "function LDAvis_load_lib(url, callback){\n",
       "  var s = document.createElement('script');\n",
       "  s.src = url;\n",
       "  s.async = true;\n",
       "  s.onreadystatechange = s.onload = callback;\n",
       "  s.onerror = function(){console.warn(\"failed to load library \" + url);};\n",
       "  document.getElementsByTagName(\"head\")[0].appendChild(s);\n",
       "}\n",
       "\n",
       "if(typeof(LDAvis) !== \"undefined\"){\n",
       "   // already loaded: just create the visualization\n",
       "   !function(LDAvis){\n",
       "       new LDAvis(\"#\" + \"ldavis_el7885127190663525506295816\", ldavis_el7885127190663525506295816_data);\n",
       "   }(LDAvis);\n",
       "}else if(typeof define === \"function\" && define.amd){\n",
       "   // require.js is available: use it to load d3/LDAvis\n",
       "   require.config({paths: {d3: \"https://d3js.org/d3.v5\"}});\n",
       "   require([\"d3\"], function(d3){\n",
       "      window.d3 = d3;\n",
       "      LDAvis_load_lib(\"https://cdn.jsdelivr.net/gh/bmabey/pyLDAvis@3.4.0/pyLDAvis/js/ldavis.v3.0.0.js\", function(){\n",
       "        new LDAvis(\"#\" + \"ldavis_el7885127190663525506295816\", ldavis_el7885127190663525506295816_data);\n",
       "      });\n",
       "    });\n",
       "}else{\n",
       "    // require.js not available: dynamically load d3 & LDAvis\n",
       "    LDAvis_load_lib(\"https://d3js.org/d3.v5.js\", function(){\n",
       "         LDAvis_load_lib(\"https://cdn.jsdelivr.net/gh/bmabey/pyLDAvis@3.4.0/pyLDAvis/js/ldavis.v3.0.0.js\", function(){\n",
       "                 new LDAvis(\"#\" + \"ldavis_el7885127190663525506295816\", ldavis_el7885127190663525506295816_data);\n",
       "            })\n",
       "         });\n",
       "}\n",
       "</script>"
      ],
      "text/plain": [
       "<IPython.core.display.HTML object>"
      ]
     },
     "execution_count": 135,
     "metadata": {},
     "output_type": "execute_result"
    }
   ],
   "source": [
    "import pyLDAvis\n",
    "\n",
    "# Calculate normalized document x dynamic topic matrix\n",
    "doc_topic = np.vstack(windows_dynamic_topic_model)\n",
    "doc_topic_row_sums = np.sum(doc_topic, axis=1)\n",
    "doc_topic = doc_topic / doc_topic_row_sums[:, np.newaxis]\n",
    "\n",
    "doc_lengths = [len(doc) for doc in tokenized_documents[4:]]\n",
    "\n",
    "all_doc_term = np.zeros((len(reduced_vocab)))\n",
    "for doc in tqdm(tokenized_documents[4:], total=len(tokenized_documents[4:])):\n",
    "    for j, term in enumerate(reduced_vocab):\n",
    "        all_doc_term[j] += doc.count(term)\n",
    "\n",
    "vis_dtm = pyLDAvis.prepare(topic_term_dists=V, doc_topic_dists=doc_topic, doc_lengths=doc_lengths, vocab=reduced_vocab, term_frequency=all_doc_term)\n",
    "pyLDAvis.save_json(vis_dtm, './results/NMF/intertopic.json')\n",
    "pyLDAvis.display(vis_dtm)"
   ]
  },
  {
   "cell_type": "code",
   "execution_count": 136,
   "id": "58e1fa46-f983-4793-b8cb-c61ae91ee145",
   "metadata": {
    "tags": []
   },
   "outputs": [
    {
     "name": "stderr",
     "output_type": "stream",
     "text": [
      "The PostScript backend does not support transparency; partially transparent artists will be rendered opaque.\n"
     ]
    },
    {
     "data": {
      "image/png": "[encoded data removed]",
      "text/plain": [
       "<Figure size 600x600 with 1 Axes>"
      ]
     },
     "metadata": {},
     "output_type": "display_data"
    }
   ],
   "source": [
    "from src.convert_ldavis_to_pyplot import convert_ldavis_to_pyplot\n",
    "\n",
    "convert_ldavis_to_pyplot('./results/NMF/intertopic.json', './results/NMF/intertopic.eps')"
   ]
  },
  {
   "cell_type": "code",
   "execution_count": 150,
   "id": "c6f32c2e-1523-4069-afd2-2e0a1449e6b3",
   "metadata": {
    "tags": []
   },
   "outputs": [
    {
     "data": {
      "text/plain": [
       "array([[  6.,  61.,   0.,  35.,  14.,   6.,  34.,  49.],\n",
       "       [ 17., 143.,  47.,  77.,  27.,  27., 103.,  53.],\n",
       "       [  9.,  14., 138.,   0.,   0.,  18.,   0.,   0.],\n",
       "       [  0.,   0.,  37.,   0.,   0.,   0.,   6.,   0.],\n",
       "       [  0.,  17., 162.,  19.,  15.,  21.,  39.,  56.],\n",
       "       [  0.,   0.,   0.,  10.,   6.,   0.,   0.,   0.],\n",
       "       [  0.,   0.,   0.,   0.,   3.,   0.,  11.,   0.],\n",
       "       [  0.,   0.,  62.,   0.,   0.,   4.,   0.,   0.]])"
      ]
     },
     "execution_count": 150,
     "metadata": {},
     "output_type": "execute_result"
    }
   ],
   "source": [
    "# For each dynamic topic, compute the number of documents at each timestep with that topic as the most likely\n",
    "dynamic_topics_frequency_overtime = np.zeros((8, 8))\n",
    "\n",
    "for window_index in range(len(windows_dynamic_topic_model)):\n",
    "    top_topics = np.argmax(windows_dynamic_topic_model[window_index], axis=1)\n",
    "    for topic_index in range(8):\n",
    "        topic_count = np.count_nonzero(top_topics == topic_index)\n",
    "        dynamic_topics_frequency_overtime[topic_index, window_index] = topic_count\n",
    "        \n",
    "dynamic_topics_frequency_overtime"
   ]
  },
  {
   "cell_type": "code",
   "execution_count": 158,
   "id": "8a8c7768-8de0-456e-829a-f89b8f56acbd",
   "metadata": {
    "tags": []
   },
   "outputs": [
    {
     "name": "stderr",
     "output_type": "stream",
     "text": [
      "The PostScript backend does not support transparency; partially transparent artists will be rendered opaque.\n"
     ]
    },
    {
     "data": {
      "image/png": "[encoded data removed]",
      "text/plain": [
       "<Figure size 1500x400 with 1 Axes>"
      ]
     },
     "metadata": {},
     "output_type": "display_data"
    }
   ],
   "source": [
    "import matplotlib.pyplot as plt\n",
    "\n",
    "# Create the x axis values\n",
    "# We multiply by 10 and then divide because range doesn't support non-integer steps\n",
    "x = [val/10 for val in range(-4490 + 1049, 6000 + 1049, 1049)]\n",
    "\n",
    "plt.rcParams[\"figure.figsize\"] = (15,4)\n",
    "\n",
    "# Plot each topic's frequency over time\n",
    "for topic in range(8):\n",
    "    label = '_'.join(dynamic_topic_terms[topic][:3])\n",
    "    label = f\"{topic + 1}: {label}\"\n",
    "    plt.plot(x[2:-1], dynamic_topics_frequency_overtime[topic, :-1], label=label)\n",
    "\n",
    "plt.axis([-400, 600, 0, 200])\n",
    "\n",
    "ticks = plt.xticks()[0]\n",
    "labels = []\n",
    "for tick in ticks:\n",
    "    if tick < 0:\n",
    "        labels.append(f\"{int(abs(tick))} BC\")\n",
    "    elif tick == 0:\n",
    "        labels.append(\"AD 1\")\n",
    "    else:\n",
    "        labels.append(f\"{int(tick)} AD\")\n",
    "plt.xticks(ticks, labels)\n",
    "\n",
    "\n",
    "plt.legend()\n",
    "plt.xlabel('year')\n",
    "plt.ylabel('frequency')\n",
    "plt.title('NMF DTM')\n",
    "\n",
    "plt.savefig(\"nmf_topics_over_time.eps\", format = 'eps', bbox_inches='tight')\n",
    "\n",
    "plt.show()"
   ]
  },
  {
   "cell_type": "code",
   "execution_count": 159,
   "id": "34784b6b-d9b8-4249-93f9-84dde789ea77",
   "metadata": {
    "tags": []
   },
   "outputs": [
    {
     "name": "stderr",
     "output_type": "stream",
     "text": [
      "/Users/milesper/miniforge3/lib/python3.10/site-packages/transformers/image_utils.py:222: DeprecationWarning: BILINEAR is deprecated and will be removed in Pillow 10 (2023-07-01). Use Resampling.BILINEAR instead.\n",
      "  def resize(self, image, size, resample=PIL.Image.BILINEAR, default_to_square=True, max_size=None):\n"
     ]
    },
    {
     "name": "stdout",
     "output_type": "stream",
     "text": [
      "‎𐤀 CLTK version '1.1.6'.\n",
      "Pipeline for language 'Latin' (ISO: 'lat'): `LatinNormalizeProcess`, `LatinStanzaProcess`, `LatinEmbeddingsProcess`, `StopsProcess`, `LatinLexiconProcess`.\n",
      "Topic 0: 0.2850413117143843\n",
      "Topic 1: 0.296328733364741\n",
      "Topic 2: 0.33892722030480704\n",
      "Topic 3: 0.333163289560212\n",
      "Topic 4: 0.28304452035162186\n"
     ]
    },
    {
     "data": {
      "text/plain": [
       "0.30730101505915325"
      ]
     },
     "execution_count": 159,
     "metadata": {},
     "output_type": "execute_result"
    }
   ],
   "source": [
    "from src.embedder import topic_coherence\n",
    "\n",
    "total = 0\n",
    "for i in range(5):\n",
    "    print(f\"Topic {i}: {topic_coherence([term[0] for term in dynamic_topic_terms[i]])}\")\n",
    "    total += topic_coherence([term[0] for term in dynamic_topic_terms[i]])\n",
    "\n",
    "total / 5"
   ]
  },
  {
   "cell_type": "code",
   "execution_count": 160,
   "id": "2f6b95d8-e864-4823-a435-6fa29e4b1bc2",
   "metadata": {
    "tags": []
   },
   "outputs": [
    {
     "data": {
      "text/plain": [
       "0.3692557442557443"
      ]
     },
     "execution_count": 160,
     "metadata": {},
     "output_type": "execute_result"
    }
   ],
   "source": [
    "from src.embedder import mean_pairwise_jaccard\n",
    "\n",
    "mean_pairwise_jaccard([[term[0] for term in dynamic_topic_terms[i]] for i in range(5)])"
   ]
  },
  {
   "cell_type": "code",
   "execution_count": null,
   "id": "a294c190-250f-4109-a0e5-45ccfff400f2",
   "metadata": {},
   "outputs": [],
   "source": []
  }
 ],
 "metadata": {
  "kernelspec": {
   "display_name": "Python 3 (ipykernel)",
   "language": "python",
   "name": "python3"
  },
  "language_info": {
   "codemirror_mode": {
    "name": "ipython",
    "version": 3
   },
   "file_extension": ".py",
   "mimetype": "text/x-python",
   "name": "python",
   "nbconvert_exporter": "python",
   "pygments_lexer": "ipython3",
   "version": "3.10.6"
  }
 },
 "nbformat": 4,
 "nbformat_minor": 5
}
